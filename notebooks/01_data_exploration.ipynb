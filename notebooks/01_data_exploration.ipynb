{
 "cells": [
  {
   "cell_type": "markdown",
   "id": "a80cd6e3",
   "metadata": {},
   "source": [
    "# 🔍 Étape 1 : Exploration des Données Immobilières\n",
    "\n",
    "## 📋 Objectifs de cette étape\n",
    "1. **Acquérir** un jeu de données immobilier réaliste\n",
    "2. **Explorer** la structure et la qualité des données\n",
    "3. **Comprendre** les variables et leurs distributions\n",
    "4. **Identifier** les patterns et corrélations\n",
    "5. **Détecter** les valeurs aberrantes et manquantes\n",
    "\n",
    "---"
   ]
  },
  {
   "cell_type": "markdown",
   "id": "473f9bef",
   "metadata": {},
   "source": [
    "## 🛠️ Configuration et Imports"
   ]
  },
  {
   "cell_type": "code",
   "execution_count": 5,
   "id": "c4231e63",
   "metadata": {},
   "outputs": [
    {
     "name": "stdout",
     "output_type": "stream",
     "text": [
      "✅ Configuration terminée !\n",
      "📦 Pandas version: 2.3.2\n",
      "📊 NumPy version: 2.3.3\n"
     ]
    }
   ],
   "source": [
    "# Configuration générale\n",
    "import warnings\n",
    "warnings.filterwarnings('ignore')\n",
    "\n",
    "# Manipulation des données\n",
    "import pandas as pd\n",
    "import numpy as np\n",
    "from pathlib import Path\n",
    "\n",
    "# Visualisation\n",
    "import matplotlib.pyplot as plt\n",
    "import seaborn as sns\n",
    "import plotly.express as px\n",
    "import plotly.graph_objects as go\n",
    "from plotly.subplots import make_subplots\n",
    "\n",
    "# Configuration des graphiques\n",
    "plt.style.use('seaborn-v0_8')\n",
    "sns.set_palette(\"husl\")\n",
    "%matplotlib inline\n",
    "\n",
    "# Paramètres d'affichage\n",
    "pd.set_option('display.max_columns', None)\n",
    "pd.set_option('display.width', 1000)\n",
    "\n",
    "print(\"✅ Configuration terminée !\")\n",
    "print(f\"📦 Pandas version: {pd.__version__}\")\n",
    "print(f\"📊 NumPy version: {np.__version__}\")"
   ]
  },
  {
   "cell_type": "markdown",
   "id": "e5445b4b",
   "metadata": {},
   "source": [
    "## 📊 Chargement du Dataset\n",
    "\n",
    "Nous allons utiliser un véritable dataset immobilier contenant **545 propriétés** avec **13 caractéristiques** différentes. Ce dataset inclut des variables comme la surface, le nombre de chambres, les équipements, etc."
   ]
  },
  {
   "cell_type": "code",
   "execution_count": 6,
   "id": "4d0814e1",
   "metadata": {},
   "outputs": [
    {
     "name": "stdout",
     "output_type": "stream",
     "text": [
      "✅ Dataset chargé avec succès !\n",
      "📊 Dimensions: 545 propriétés × 13 variables\n",
      "📋 Variables disponibles: ['price', 'area', 'bedrooms', 'bathrooms', 'stories', 'mainroad', 'guestroom', 'basement', 'hotwaterheating', 'airconditioning', 'parking', 'prefarea', 'furnishingstatus']\n",
      "\n",
      "🔍 APERÇU DU DATASET:\n",
      "========================================\n",
      "      price  area  bedrooms  bathrooms  stories mainroad guestroom basement hotwaterheating airconditioning  parking prefarea furnishingstatus\n",
      "0  13300000  7420         4          2        3      yes        no       no              no             yes        2      yes        furnished\n",
      "1  12250000  8960         4          4        4      yes        no       no              no             yes        3       no        furnished\n",
      "2  12250000  9960         3          2        2      yes        no      yes              no              no        2      yes   semi-furnished\n",
      "3  12215000  7500         4          2        2      yes        no      yes              no             yes        3      yes        furnished\n",
      "4  11410000  7420         4          1        2      yes       yes      yes              no             yes        2       no        furnished\n",
      "\n",
      "📊 INFORMATIONS GÉNÉRALES:\n",
      "   • Nombre de propriétés: 545\n",
      "   • Nombre de variables: 13\n",
      "   • Valeurs manquantes: 0\n",
      "   • Taille en mémoire: 0.25 MB\n",
      "\n",
      "💰 STATISTIQUES DES PRIX:\n",
      "   • Prix minimum: 1,750,000\n",
      "   • Prix maximum: 13,300,000\n",
      "   • Prix moyen: 4,766,729\n",
      "   • Prix médian: 4,340,000\n",
      "\n",
      "🏡 CARACTÉRISTIQUES DES BIENS:\n",
      "   • Surface moyenne: 5151 sq ft\n",
      "   • Chambres moyennes: 3.0\n",
      "   • Salles de bain moyennes: 1.3\n",
      "   • Étages moyens: 1.8\n"
     ]
    }
   ],
   "source": [
    "# 1. Chargement du dataset réel\n",
    "data_path = Path('../data/Housing Prices Dataset/Housing.csv')\n",
    "\n",
    "if data_path.exists():\n",
    "    df = pd.read_csv(data_path)\n",
    "    print(\"✅ Dataset chargé avec succès !\")\n",
    "    print(f\"📊 Dimensions: {df.shape[0]} propriétés × {df.shape[1]} variables\")\n",
    "    print(f\"📋 Variables disponibles: {list(df.columns)}\")\n",
    "else:\n",
    "    print(\"❌ Fichier non trouvé. Vérifiez le chemin.\")\n",
    "\n",
    "# 2. Première inspection du dataset\n",
    "print(\"\\n🔍 APERÇU DU DATASET:\")\n",
    "print(\"=\" * 40)\n",
    "print(df.head())\n",
    "\n",
    "print(f\"\\n📊 INFORMATIONS GÉNÉRALES:\")\n",
    "print(f\"   • Nombre de propriétés: {len(df):,}\")\n",
    "print(f\"   • Nombre de variables: {df.shape[1]}\")\n",
    "print(f\"   • Valeurs manquantes: {df.isnull().sum().sum()}\")\n",
    "print(f\"   • Taille en mémoire: {df.memory_usage(deep=True).sum() / 1024**2:.2f} MB\")\n",
    "\n",
    "# 3. Analyse des prix\n",
    "print(f\"\\n💰 STATISTIQUES DES PRIX:\")\n",
    "print(f\"   • Prix minimum: {df['price'].min():,}\")\n",
    "print(f\"   • Prix maximum: {df['price'].max():,}\") \n",
    "print(f\"   • Prix moyen: {df['price'].mean():,.0f}\")\n",
    "print(f\"   • Prix médian: {df['price'].median():,.0f}\")\n",
    "\n",
    "print(f\"\\n🏡 CARACTÉRISTIQUES DES BIENS:\")\n",
    "print(f\"   • Surface moyenne: {df['area'].mean():.0f} sq ft\")\n",
    "print(f\"   • Chambres moyennes: {df['bedrooms'].mean():.1f}\")\n",
    "print(f\"   • Salles de bain moyennes: {df['bathrooms'].mean():.1f}\")\n",
    "print(f\"   • Étages moyens: {df['stories'].mean():.1f}\")"
   ]
  },
  {
   "cell_type": "code",
   "execution_count": 7,
   "id": "4f0ccf02",
   "metadata": {},
   "outputs": [
    {
     "name": "stdout",
     "output_type": "stream",
     "text": [
      "🏷️ ANALYSE DES VARIABLES CATÉGORIELLES:\n",
      "==================================================\n",
      "\n",
      "📊 MAINROAD:\n",
      "------------------------------\n",
      "   yes            : 468 (85.9%)\n",
      "   no             :  77 (14.1%)\n",
      "\n",
      "📊 GUESTROOM:\n",
      "------------------------------\n",
      "   no             : 448 (82.2%)\n",
      "   yes            :  97 (17.8%)\n",
      "\n",
      "📊 BASEMENT:\n",
      "------------------------------\n",
      "   no             : 354 (65.0%)\n",
      "   yes            : 191 (35.0%)\n",
      "\n",
      "📊 HOTWATERHEATING:\n",
      "------------------------------\n",
      "   no             : 520 (95.4%)\n",
      "   yes            :  25 ( 4.6%)\n",
      "\n",
      "📊 AIRCONDITIONING:\n",
      "------------------------------\n",
      "   no             : 373 (68.4%)\n",
      "   yes            : 172 (31.6%)\n",
      "\n",
      "📊 PREFAREA:\n",
      "------------------------------\n",
      "   no             : 417 (76.5%)\n",
      "   yes            : 128 (23.5%)\n",
      "\n",
      "📊 FURNISHINGSTATUS:\n",
      "------------------------------\n",
      "   semi-furnished : 227 (41.7%)\n",
      "   unfurnished    : 178 (32.7%)\n",
      "   furnished      : 140 (25.7%)\n",
      "\n",
      "🔄 PRÉPARATION DES DONNÉES:\n",
      "===================================\n",
      "   ✅ mainroad: yes/no → 1/0\n",
      "   ✅ guestroom: yes/no → 1/0\n",
      "   ✅ basement: yes/no → 1/0\n",
      "   ✅ hotwaterheating: yes/no → 1/0\n",
      "   ✅ airconditioning: yes/no → 1/0\n",
      "   ✅ prefarea: yes/no → 1/0\n",
      "   ✅ furnishingstatus: furnished(2), semi-furnished(1), unfurnished(0)\n",
      "\n",
      "📊 Dataset préparé:\n",
      "   • Variables numériques: 13\n",
      "   • Variables catégorielles restantes: 0\n",
      "   ✅ mainroad: yes/no → 1/0\n",
      "   ✅ guestroom: yes/no → 1/0\n",
      "   ✅ basement: yes/no → 1/0\n",
      "   ✅ hotwaterheating: yes/no → 1/0\n",
      "   ✅ airconditioning: yes/no → 1/0\n",
      "   ✅ prefarea: yes/no → 1/0\n",
      "   ✅ furnishingstatus: furnished(2), semi-furnished(1), unfurnished(0)\n",
      "\n",
      "📊 Dataset préparé:\n",
      "   • Variables numériques: 13\n",
      "   • Variables catégorielles restantes: 0\n"
     ]
    }
   ],
   "source": [
    "# 4. Analyse des variables catégorielles\n",
    "categorical_vars = ['mainroad', 'guestroom', 'basement', 'hotwaterheating', \n",
    "                   'airconditioning', 'prefarea', 'furnishingstatus']\n",
    "\n",
    "print(\"🏷️ ANALYSE DES VARIABLES CATÉGORIELLES:\")\n",
    "print(\"=\" * 50)\n",
    "\n",
    "for var in categorical_vars:\n",
    "    print(f\"\\n📊 {var.upper()}:\")\n",
    "    print(\"-\" * 30)\n",
    "    counts = df[var].value_counts()\n",
    "    percentages = (counts / len(df) * 100).round(1)\n",
    "    \n",
    "    for value, count in counts.items():\n",
    "        pct = percentages[value]\n",
    "        print(f\"   {value:15s}: {count:3d} ({pct:4.1f}%)\")\n",
    "\n",
    "# 5. Conversion des variables catégorielles binaires\n",
    "print(f\"\\n🔄 PRÉPARATION DES DONNÉES:\")\n",
    "print(\"=\" * 35)\n",
    "\n",
    "# Créer une copie pour les transformations\n",
    "df_processed = df.copy()\n",
    "\n",
    "# Variables binaires yes/no -> 1/0\n",
    "binary_vars = ['mainroad', 'guestroom', 'basement', 'hotwaterheating', \n",
    "               'airconditioning', 'prefarea']\n",
    "\n",
    "for var in binary_vars:\n",
    "    df_processed[var] = df_processed[var].map({'yes': 1, 'no': 0})\n",
    "    print(f\"   ✅ {var}: yes/no → 1/0\")\n",
    "\n",
    "# Variable furnishingstatus -> numérique\n",
    "furnishing_map = {'furnished': 2, 'semi-furnished': 1, 'unfurnished': 0}\n",
    "df_processed['furnishingstatus'] = df_processed['furnishingstatus'].map(furnishing_map)\n",
    "print(f\"   ✅ furnishingstatus: furnished(2), semi-furnished(1), unfurnished(0)\")\n",
    "\n",
    "print(f\"\\n📊 Dataset préparé:\")\n",
    "print(f\"   • Variables numériques: {df_processed.select_dtypes(include=[np.number]).shape[1]}\")\n",
    "print(f\"   • Variables catégorielles restantes: {df_processed.select_dtypes(include=['object']).shape[1]}\")"
   ]
  },
  {
   "cell_type": "code",
   "execution_count": 8,
   "id": "e1048ba1",
   "metadata": {},
   "outputs": [
    {
     "name": "stdout",
     "output_type": "stream",
     "text": [
      "💰 ANALYSE DES PRIX PAR CARACTÉRISTIQUES:\n",
      "==================================================\n",
      "\n",
      "🛏️ PRIX MOYEN PAR NOMBRE DE CHAMBRES:\n",
      "          Prix moyen  Nombre  Écart-type\n",
      "bedrooms                                \n",
      "1          2712500.0       2    618718.0\n",
      "2          3632022.0     136   1004024.0\n",
      "3          4954598.0     300   1747527.0\n",
      "4          5729758.0      95   2307740.0\n",
      "5          5819800.0      10   2502315.0\n",
      "6          4791500.0       2   1826457.0\n",
      "\n",
      "📐 PRIX MOYEN PAR QUARTILE DE SUPERFICIE:\n",
      "               Prix moyen  Nombre\n",
      "area_quartile                    \n",
      "Petit           3536094.0     144\n",
      "Moyen           4102658.0     133\n",
      "Grand           5289105.0     133\n",
      "Très grand      6219003.0     135\n",
      "\n",
      "🪑 PRIX MOYEN PAR STATUT D'AMEUBLEMENT:\n",
      "                  Prix moyen  Nombre\n",
      "furnishingstatus                    \n",
      "furnished          5495696.0     140\n",
      "semi-furnished     4907524.0     227\n",
      "unfurnished        4013831.0     178\n",
      "\n",
      "⭐ IMPACT DES ÉQUIPEMENTS PREMIUM SUR LE PRIX:\n",
      "   guestroom      : +1,248,351 € (+27.5%)\n",
      "   basement       : +732,649 € (+16.2%)\n",
      "   hotwaterheating: +831,367 € (+17.6%)\n",
      "   airconditioning: +1,821,281 € (+43.4%)\n",
      "   prefarea       : +1,453,747 € (+32.9%)\n"
     ]
    }
   ],
   "source": [
    "# 6. Analyse approfondie des prix en fonction des caractéristiques\n",
    "\n",
    "print(\"💰 ANALYSE DES PRIX PAR CARACTÉRISTIQUES:\")\n",
    "print(\"=\" * 50)\n",
    "\n",
    "# Prix par nombre de chambres\n",
    "print(\"\\n🛏️ PRIX MOYEN PAR NOMBRE DE CHAMBRES:\")\n",
    "prix_chambres = df.groupby('bedrooms')['price'].agg(['mean', 'count', 'std']).round(0)\n",
    "prix_chambres.columns = ['Prix moyen', 'Nombre', 'Écart-type']\n",
    "print(prix_chambres)\n",
    "\n",
    "# Prix par superficie (quartiles)\n",
    "print(\"\\n📐 PRIX MOYEN PAR QUARTILE DE SUPERFICIE:\")\n",
    "df['area_quartile'] = pd.qcut(df['area'], 4, labels=['Petit', 'Moyen', 'Grand', 'Très grand'])\n",
    "prix_superficie = df.groupby('area_quartile')['price'].agg(['mean', 'count']).round(0)\n",
    "prix_superficie.columns = ['Prix moyen', 'Nombre']\n",
    "print(prix_superficie)\n",
    "\n",
    "# Prix par statut d'ameublement\n",
    "print(\"\\n🪑 PRIX MOYEN PAR STATUT D'AMEUBLEMENT:\")\n",
    "prix_meuble = df.groupby('furnishingstatus')['price'].agg(['mean', 'count']).round(0)\n",
    "prix_meuble.columns = ['Prix moyen', 'Nombre']\n",
    "print(prix_meuble)\n",
    "\n",
    "# Prix avec vs sans équipements premium\n",
    "print(\"\\n⭐ IMPACT DES ÉQUIPEMENTS PREMIUM SUR LE PRIX:\")\n",
    "equipements = ['guestroom', 'basement', 'hotwaterheating', 'airconditioning', 'prefarea']\n",
    "\n",
    "for equip in equipements:\n",
    "    prix_avec = df[df[equip] == 'yes']['price'].mean()\n",
    "    prix_sans = df[df[equip] == 'no']['price'].mean()\n",
    "    difference = prix_avec - prix_sans\n",
    "    pct_difference = (difference / prix_sans) * 100\n",
    "    \n",
    "    print(f\"   {equip:15s}: +{difference:,.0f} € (+{pct_difference:4.1f}%)\")"
   ]
  },
  {
   "cell_type": "code",
   "execution_count": 9,
   "id": "57c06f4e",
   "metadata": {},
   "outputs": [
    {
     "name": "stdout",
     "output_type": "stream",
     "text": [
      "🚨 DÉTECTION DES VALEURS ABERRANTES NATURELLES:\n",
      "=======================================================\n",
      "\n",
      "📊 PRICE:\n",
      "   Seuil inférieur: -35,000.0\n",
      "   Seuil supérieur: 9,205,000.0\n",
      "   Nombre d'outliers: 15 (2.8%)\n",
      "   Valeurs extrêmes:\n",
      "     Min outlier: 9,240,000.0\n",
      "     Max outlier: 13,300,000.0\n",
      "\n",
      "📊 AREA:\n",
      "   Seuil inférieur: -540.0\n",
      "   Seuil supérieur: 10,500.0\n",
      "   Nombre d'outliers: 12 (2.2%)\n",
      "   Valeurs extrêmes:\n",
      "     Min outlier: 10,700.0\n",
      "     Max outlier: 16,200.0\n",
      "\n",
      "📊 BEDROOMS:\n",
      "   Seuil inférieur: 0.5\n",
      "   Seuil supérieur: 4.5\n",
      "   Nombre d'outliers: 12 (2.2%)\n",
      "   Valeurs extrêmes:\n",
      "     Min outlier: 5.0\n",
      "     Max outlier: 6.0\n",
      "\n",
      "📊 BATHROOMS:\n",
      "   Seuil inférieur: -0.5\n",
      "   Seuil supérieur: 3.5\n",
      "   Nombre d'outliers: 1 (0.2%)\n",
      "   Valeurs extrêmes:\n",
      "     Min outlier: 4.0\n",
      "     Max outlier: 4.0\n",
      "\n",
      "📊 STORIES:\n",
      "   Seuil inférieur: -0.5\n",
      "   Seuil supérieur: 3.5\n",
      "   Nombre d'outliers: 41 (7.5%)\n",
      "   Valeurs extrêmes:\n",
      "     Min outlier: 4.0\n",
      "     Max outlier: 4.0\n",
      "\n",
      "📊 PARKING:\n",
      "   Seuil inférieur: -1.5\n",
      "   Seuil supérieur: 2.5\n",
      "   Nombre d'outliers: 12 (2.2%)\n",
      "   Valeurs extrêmes:\n",
      "     Min outlier: 3.0\n",
      "     Max outlier: 3.0\n",
      "\n",
      "📋 RÉSUMÉ DES OUTLIERS:\n",
      "   Total d'outliers détectés: 93\n",
      "   Variables avec outliers: 6\n",
      "\n",
      "🏠 PROPRIÉTÉS AVEC DES VALEURS EXTRÊMES:\n",
      "      price  area  bedrooms  bathrooms\n",
      "0  13300000  7420         4          2\n",
      "1  12250000  8960         4          4\n",
      "2  12250000  9960         3          2\n",
      "3  12215000  7500         4          2\n",
      "4  11410000  7420         4          1\n",
      "\n",
      "✅ Détection des outliers naturels terminée!\n",
      "📊 Dataset shape: (545, 14)\n",
      "📊 Aucune valeur manquante: True\n",
      "      price  area  bedrooms  bathrooms\n",
      "0  13300000  7420         4          2\n",
      "1  12250000  8960         4          4\n",
      "2  12250000  9960         3          2\n",
      "3  12215000  7500         4          2\n",
      "4  11410000  7420         4          1\n",
      "\n",
      "✅ Détection des outliers naturels terminée!\n",
      "📊 Dataset shape: (545, 14)\n",
      "📊 Aucune valeur manquante: True\n"
     ]
    }
   ],
   "source": [
    "# 7. Détection des valeurs aberrantes naturelles dans le dataset\n",
    "\n",
    "def detect_outliers_iqr(data, column):\n",
    "    \"\"\"Détecte les outliers avec la méthode IQR\"\"\"\n",
    "    Q1 = data[column].quantile(0.25)\n",
    "    Q3 = data[column].quantile(0.75)\n",
    "    IQR = Q3 - Q1\n",
    "    \n",
    "    lower_bound = Q1 - 1.5 * IQR\n",
    "    upper_bound = Q3 + 1.5 * IQR\n",
    "    \n",
    "    outliers = data[(data[column] < lower_bound) | (data[column] > upper_bound)]\n",
    "    return outliers, lower_bound, upper_bound\n",
    "\n",
    "print(\"🚨 DÉTECTION DES VALEURS ABERRANTES NATURELLES:\")\n",
    "print(\"=\" * 55)\n",
    "\n",
    "# Variables numériques principales à vérifier\n",
    "numeric_vars = ['price', 'area', 'bedrooms', 'bathrooms', 'stories', 'parking']\n",
    "\n",
    "outliers_summary = {}\n",
    "for var in numeric_vars:\n",
    "    outliers, lower, upper = detect_outliers_iqr(df, var)\n",
    "    pct_outliers = len(outliers) / len(df) * 100\n",
    "    outliers_summary[var] = len(outliers)\n",
    "    \n",
    "    print(f\"\\n📊 {var.upper()}:\")\n",
    "    print(f\"   Seuil inférieur: {lower:,.1f}\")\n",
    "    print(f\"   Seuil supérieur: {upper:,.1f}\")\n",
    "    print(f\"   Nombre d'outliers: {len(outliers)} ({pct_outliers:.1f}%)\")\n",
    "    \n",
    "    if len(outliers) > 0:\n",
    "        print(f\"   Valeurs extrêmes:\")\n",
    "        print(f\"     Min outlier: {outliers[var].min():,.1f}\")\n",
    "        print(f\"     Max outlier: {outliers[var].max():,.1f}\")\n",
    "\n",
    "print(f\"\\n📋 RÉSUMÉ DES OUTLIERS:\")\n",
    "total_outliers = sum(outliers_summary.values())\n",
    "print(f\"   Total d'outliers détectés: {total_outliers}\")\n",
    "print(f\"   Variables avec outliers: {sum(1 for count in outliers_summary.values() if count > 0)}\")\n",
    "\n",
    "# Affichage des propriétés avec le plus d'outliers\n",
    "outlier_indices = set()\n",
    "for var in numeric_vars:\n",
    "    outliers, _, _ = detect_outliers_iqr(df, var)\n",
    "    outlier_indices.update(outliers.index)\n",
    "\n",
    "if outlier_indices:\n",
    "    print(f\"\\n🏠 PROPRIÉTÉS AVEC DES VALEURS EXTRÊMES:\")\n",
    "    extreme_properties = df.loc[list(outlier_indices)][['price', 'area', 'bedrooms', 'bathrooms']]\n",
    "    print(extreme_properties.head())\n",
    "\n",
    "print(\"\\n✅ Détection des outliers naturels terminée!\")\n",
    "print(f\"📊 Dataset shape: {df.shape}\")\n",
    "print(f\"📊 Aucune valeur manquante: {df.isnull().sum().sum() == 0}\")"
   ]
  },
  {
   "cell_type": "code",
   "execution_count": 10,
   "id": "b34e81ea",
   "metadata": {},
   "outputs": [
    {
     "name": "stdout",
     "output_type": "stream",
     "text": [
      "💾 Datasets sauvegardés:\n",
      "   • Original: ..\\data\\processed\\housing_original.csv\n",
      "   • Traité: ..\\data\\processed\\housing_processed.csv\n",
      "\n",
      "📋 APERÇU FINAL DES DONNÉES:\n",
      "========================================\n",
      "Dataset original (5 premières lignes):\n",
      "      price  area  bedrooms  bathrooms  stories mainroad guestroom basement hotwaterheating airconditioning  parking prefarea furnishingstatus area_quartile\n",
      "0  13300000  7420         4          2        3      yes        no       no              no             yes        2      yes        furnished    Très grand\n",
      "1  12250000  8960         4          4        4      yes        no       no              no             yes        3       no        furnished    Très grand\n",
      "2  12250000  9960         3          2        2      yes        no      yes              no              no        2      yes   semi-furnished    Très grand\n",
      "3  12215000  7500         4          2        2      yes        no      yes              no             yes        3      yes        furnished    Très grand\n",
      "4  11410000  7420         4          1        2      yes       yes      yes              no             yes        2       no        furnished    Très grand\n",
      "\n",
      "Dataset traité (5 premières lignes):\n",
      "      price  area  bedrooms  bathrooms  stories  mainroad  guestroom  basement  hotwaterheating  airconditioning  parking  prefarea  furnishingstatus\n",
      "0  13300000  7420         4          2        3         1          0         0                0                1        2         1                 2\n",
      "1  12250000  8960         4          4        4         1          0         0                0                1        3         0                 2\n",
      "2  12250000  9960         3          2        2         1          0         1                0                0        2         1                 1\n",
      "3  12215000  7500         4          2        2         1          0         1                0                1        3         1                 2\n",
      "4  11410000  7420         4          1        2         1          1         1                0                1        2         0                 2\n",
      "\n",
      "📊 COMPARAISON AVANT/APRÈS TRAITEMENT:\n",
      "   • Variables catégorielles (avant): 7\n",
      "   • Variables catégorielles (après): 0\n",
      "   • Variables numériques (avant): 6\n",
      "   • Variables numériques (après): 13\n",
      "\n",
      "✅ Sauvegarde terminée avec succès!\n",
      "📊 Prêt pour l'étape suivante : Nettoyage et modélisation\n"
     ]
    }
   ],
   "source": [
    "# 8. Sauvegarde du dataset nettoyé\n",
    "from pathlib import Path\n",
    "\n",
    "processed_data_path = Path('../data/processed')\n",
    "processed_data_path.mkdir(parents=True, exist_ok=True)\n",
    "\n",
    "# Sauvegarder le dataset original et traité\n",
    "df.to_csv(processed_data_path / 'housing_original.csv', index=False)\n",
    "df_processed.to_csv(processed_data_path / 'housing_processed.csv', index=False)\n",
    "\n",
    "print(f\"💾 Datasets sauvegardés:\")\n",
    "print(f\"   • Original: {processed_data_path / 'housing_original.csv'}\")\n",
    "print(f\"   • Traité: {processed_data_path / 'housing_processed.csv'}\")\n",
    "\n",
    "# 9. Aperçu final des données\n",
    "print(f\"\\n📋 APERÇU FINAL DES DONNÉES:\")\n",
    "print(\"=\" * 40)\n",
    "print(\"Dataset original (5 premières lignes):\")\n",
    "print(df.head())\n",
    "\n",
    "print(f\"\\nDataset traité (5 premières lignes):\")\n",
    "print(df_processed.head())\n",
    "\n",
    "print(f\"\\n📊 COMPARAISON AVANT/APRÈS TRAITEMENT:\")\n",
    "print(f\"   • Variables catégorielles (avant): {df.select_dtypes(include=['object']).shape[1]}\")\n",
    "print(f\"   • Variables catégorielles (après): {df_processed.select_dtypes(include=['object']).shape[1]}\")\n",
    "print(f\"   • Variables numériques (avant): {df.select_dtypes(include=[np.number]).shape[1]}\")\n",
    "print(f\"   • Variables numériques (après): {df_processed.select_dtypes(include=[np.number]).shape[1]}\")\n",
    "\n",
    "print(f\"\\n✅ Sauvegarde terminée avec succès!\")\n",
    "print(f\"📊 Prêt pour l'étape suivante : Nettoyage et modélisation\")"
   ]
  },
  {
   "cell_type": "code",
   "execution_count": 11,
   "id": "7366ce73",
   "metadata": {},
   "outputs": [
    {
     "name": "stdout",
     "output_type": "stream",
     "text": [
      "🧪 TEST RAPIDE:\n",
      "====================\n",
      "✅ Dataset chargé: (545, 14)\n",
      "✅ Dataset traité créé: (545, 13)\n",
      "✅ Variables numériques: ['price', 'area', 'bedrooms', 'bathrooms', 'stories', 'mainroad', 'guestroom', 'basement', 'hotwaterheating', 'airconditioning', 'parking', 'prefarea', 'furnishingstatus']\n",
      "✅ Tout semble fonctionner correctement!\n"
     ]
    }
   ],
   "source": [
    "# Test rapide - Vérification que tout fonctionne\n",
    "print(\"🧪 TEST RAPIDE:\")\n",
    "print(\"=\" * 20)\n",
    "print(f\"✅ Dataset chargé: {df.shape}\")\n",
    "print(f\"✅ Dataset traité créé: {df_processed.shape}\")\n",
    "print(f\"✅ Variables numériques: {df_processed.select_dtypes(include=[np.number]).columns.tolist()}\")\n",
    "print(\"✅ Tout semble fonctionner correctement!\")"
   ]
  },
  {
   "cell_type": "markdown",
   "id": "a93a36d9",
   "metadata": {},
   "source": [
    "## 🔍 Exploration Initiale des Données\n",
    "\n",
    "Maintenant que nous avons notre dataset, explorons sa structure et ses caractéristiques."
   ]
  },
  {
   "cell_type": "code",
   "execution_count": 12,
   "id": "89141272",
   "metadata": {},
   "outputs": [
    {
     "name": "stdout",
     "output_type": "stream",
     "text": [
      "🔍 INFORMATIONS GÉNÉRALES SUR LE DATASET\n",
      "==================================================\n",
      "📊 Dimensions: 545 propriétés × 14 variables\n",
      "💾 Taille mémoire: 0.25 MB\n",
      "🌍 Dataset: Housing Prices Dataset\n",
      "\n",
      "📋 VARIABLES DISPONIBLES:\n",
      "===================================\n",
      "    1. price              (Numérique)\n",
      "    2. area               (Numérique)\n",
      "    3. bedrooms           (Numérique)\n",
      "    4. bathrooms          (Numérique)\n",
      "    5. stories            (Numérique)\n",
      "    6. mainroad           (Catégorielle)\n",
      "    7. guestroom          (Catégorielle)\n",
      "    8. basement           (Catégorielle)\n",
      "    9. hotwaterheating    (Catégorielle)\n",
      "   10. airconditioning    (Catégorielle)\n",
      "   11. parking            (Numérique)\n",
      "   12. prefarea           (Catégorielle)\n",
      "   13. furnishingstatus   (Catégorielle)\n",
      "   14. area_quartile      (Catégorielle)\n",
      "\n",
      "📋 TYPES DE DONNÉES:\n",
      "=========================\n",
      "price                  int64\n",
      "area                   int64\n",
      "bedrooms               int64\n",
      "bathrooms              int64\n",
      "stories                int64\n",
      "mainroad              object\n",
      "guestroom             object\n",
      "basement              object\n",
      "hotwaterheating       object\n",
      "airconditioning       object\n",
      "parking                int64\n",
      "prefarea              object\n",
      "furnishingstatus      object\n",
      "area_quartile       category\n",
      "dtype: object\n",
      "\n",
      "❌ VALEURS MANQUANTES:\n",
      "==============================\n",
      "   ✅ Aucune valeur manquante détectée!\n",
      "\n",
      "🏠 CARACTÉRISTIQUES DU MARCHÉ:\n",
      "========================================\n",
      "   • Prix moyen: 4,766,729\n",
      "   • Surface moyenne: 5151 sq ft\n",
      "   • Range de prix: 1,750,000 - 13,300,000\n",
      "   • Range de surface: 1650 - 16200 sq ft\n"
     ]
    }
   ],
   "source": [
    "# Vérifier si les données sont chargées, sinon les charger\n",
    "if 'df' not in locals():\n",
    "    print(\"⚠️  Données non chargées, chargement en cours...\")\n",
    "    from pathlib import Path\n",
    "    import pandas as pd\n",
    "    import numpy as np\n",
    "    \n",
    "    data_path = Path('../data/Housing Prices Dataset/Housing.csv')\n",
    "    if data_path.exists():\n",
    "        df = pd.read_csv(data_path)\n",
    "        print(f\"✅ Dataset rechargé: {df.shape[0]} propriétés × {df.shape[1]} variables\")\n",
    "    else:\n",
    "        print(\"❌ Fichier Housing.csv non trouvé!\")\n",
    "        print(\"Veuillez vérifier le chemin vers le fichier de données.\")\n",
    "\n",
    "# Informations générales sur le dataset réel\n",
    "if 'df' in locals():\n",
    "    print(\"🔍 INFORMATIONS GÉNÉRALES SUR LE DATASET\")\n",
    "    print(\"=\" * 50)\n",
    "    print(f\"📊 Dimensions: {df.shape[0]:,} propriétés × {df.shape[1]} variables\")\n",
    "    print(f\"💾 Taille mémoire: {df.memory_usage(deep=True).sum() / 1024**2:.2f} MB\")\n",
    "    print(f\"🌍 Dataset: Housing Prices Dataset\")\n",
    "\n",
    "    print(\"\\n📋 VARIABLES DISPONIBLES:\")\n",
    "    print(\"=\" * 35)\n",
    "    for i, col in enumerate(df.columns, 1):\n",
    "        col_type = \"Numérique\" if df[col].dtype in ['int64', 'float64'] else \"Catégorielle\"\n",
    "        print(f\"   {i:2d}. {col:18s} ({col_type})\")\n",
    "\n",
    "    print(\"\\n📋 TYPES DE DONNÉES:\")\n",
    "    print(\"=\" * 25)\n",
    "    print(df.dtypes)\n",
    "\n",
    "    print(\"\\n❌ VALEURS MANQUANTES:\")\n",
    "    print(\"=\" * 30)\n",
    "    missing = df.isnull().sum()\n",
    "    if missing.sum() == 0:\n",
    "        print(\"   ✅ Aucune valeur manquante détectée!\")\n",
    "    else:\n",
    "        missing_pct = (missing / len(df)) * 100\n",
    "        missing_df = pd.DataFrame({\n",
    "            'Valeurs manquantes': missing,\n",
    "            'Pourcentage': missing_pct\n",
    "        })\n",
    "        print(missing_df[missing_df['Valeurs manquantes'] > 0])\n",
    "\n",
    "    print(\"\\n🏠 CARACTÉRISTIQUES DU MARCHÉ:\")\n",
    "    print(\"=\" * 40)\n",
    "    print(f\"   • Prix moyen: {df['price'].mean():,.0f}\")\n",
    "    print(f\"   • Surface moyenne: {df['area'].mean():.0f} sq ft\")\n",
    "    print(f\"   • Range de prix: {df['price'].min():,} - {df['price'].max():,}\")\n",
    "    print(f\"   • Range de surface: {df['area'].min()} - {df['area'].max()} sq ft\")\n",
    "else:\n",
    "    print(\"❌ Impossible d'afficher les informations - données non disponibles.\")\n",
    "    print(\"💡 Conseil: Vérifiez le chemin vers le fichier Housing.csv\")"
   ]
  },
  {
   "cell_type": "code",
   "execution_count": 13,
   "id": "88e13829",
   "metadata": {},
   "outputs": [
    {
     "name": "stdout",
     "output_type": "stream",
     "text": [
      "📊 STATISTIQUES DESCRIPTIVES - VARIABLES NUMÉRIQUES\n",
      "============================================================\n",
      "              price          area    bedrooms   bathrooms     stories     parking\n",
      "count  5.450000e+02    545.000000  545.000000  545.000000  545.000000  545.000000\n",
      "mean   4.766729e+06   5150.541284    2.965138    1.286239    1.805505    0.693578\n",
      "std    1.870440e+06   2170.141023    0.738064    0.502470    0.867492    0.861586\n",
      "min    1.750000e+06   1650.000000    1.000000    1.000000    1.000000    0.000000\n",
      "25%    3.430000e+06   3600.000000    2.000000    1.000000    1.000000    0.000000\n",
      "50%    4.340000e+06   4600.000000    3.000000    1.000000    2.000000    0.000000\n",
      "75%    5.740000e+06   6360.000000    3.000000    2.000000    2.000000    1.000000\n",
      "max    1.330000e+07  16200.000000    6.000000    4.000000    4.000000    3.000000\n",
      "\n",
      "📈 STATISTIQUES ADDITIONNELLES:\n",
      "========================================\n",
      "\n",
      "🏷️ PRIX DE VENTE (€):\n",
      "   Moyenne: 4,766,729.2\n",
      "   Médiane: 4,340,000.0\n",
      "   Écart-type: 1,870,439.6\n",
      "   Range: 1750000 - 13300000\n",
      "\n",
      "🏷️ SURFACE HABITABLE (sq ft):\n",
      "   Moyenne: 5,150.5\n",
      "   Médiane: 4,600.0\n",
      "   Écart-type: 2,170.1\n",
      "   Range: 1650 - 16200\n",
      "\n",
      "🏷️ CHAMBRES (pièces):\n",
      "   Moyenne: 3.0\n",
      "   Médiane: 3.0\n",
      "   Écart-type: 0.7\n",
      "   Range: 1 - 6\n",
      "   Distribution: {1: np.int64(2), 2: np.int64(136), 3: np.int64(300), 4: np.int64(95), 5: np.int64(10), 6: np.int64(2)}\n",
      "\n",
      "🏷️ SALLES DE BAIN (pièces):\n",
      "   Moyenne: 1.3\n",
      "   Médiane: 1.0\n",
      "   Écart-type: 0.5\n",
      "   Range: 1 - 4\n",
      "   Distribution: {1: np.int64(401), 2: np.int64(133), 3: np.int64(10), 4: np.int64(1)}\n",
      "\n",
      "🏷️ NOMBRE D'ÉTAGES (étages):\n",
      "   Moyenne: 1.8\n",
      "   Médiane: 2.0\n",
      "   Écart-type: 0.9\n",
      "   Range: 1 - 4\n",
      "   Distribution: {1: np.int64(227), 2: np.int64(238), 3: np.int64(39), 4: np.int64(41)}\n",
      "\n",
      "🏷️ PLACES DE PARKING (places):\n",
      "   Moyenne: 0.7\n",
      "   Médiane: 0.0\n",
      "   Écart-type: 0.9\n",
      "   Range: 0 - 3\n",
      "   Distribution: {0: np.int64(299), 1: np.int64(126), 2: np.int64(108), 3: np.int64(12)}\n"
     ]
    }
   ],
   "source": [
    "# Statistiques descriptives pour le dataset Housing\n",
    "print(\"📊 STATISTIQUES DESCRIPTIVES - VARIABLES NUMÉRIQUES\")\n",
    "print(\"=\" * 60)\n",
    "\n",
    "# Sélectionner les variables numériques\n",
    "numeric_columns = df.select_dtypes(include=[np.number]).columns\n",
    "df_numeric_stats = df[numeric_columns].describe()\n",
    "\n",
    "# Afficher avec formatage amélioré\n",
    "print(df_numeric_stats)\n",
    "\n",
    "print(f\"\\n📈 STATISTIQUES ADDITIONNELLES:\")\n",
    "print(\"=\" * 40)\n",
    "\n",
    "# Statistiques spécifiques pour chaque variable clé\n",
    "key_stats = {\n",
    "    'price': {'unit': '€', 'desc': 'Prix de vente'},\n",
    "    'area': {'unit': 'sq ft', 'desc': 'Surface habitable'},\n",
    "    'bedrooms': {'unit': 'pièces', 'desc': 'Chambres'},\n",
    "    'bathrooms': {'unit': 'pièces', 'desc': 'Salles de bain'},\n",
    "    'stories': {'unit': 'étages', 'desc': 'Nombre d\\'étages'},\n",
    "    'parking': {'unit': 'places', 'desc': 'Places de parking'}\n",
    "}\n",
    "\n",
    "for var, info in key_stats.items():\n",
    "    if var in df.columns:\n",
    "        print(f\"\\n🏷️ {info['desc'].upper()} ({info['unit']}):\")\n",
    "        print(f\"   Moyenne: {df[var].mean():,.1f}\")\n",
    "        print(f\"   Médiane: {df[var].median():,.1f}\")\n",
    "        print(f\"   Écart-type: {df[var].std():,.1f}\")\n",
    "        print(f\"   Range: {df[var].min()} - {df[var].max()}\")\n",
    "        \n",
    "        # Afficher la distribution pour les variables discrètes\n",
    "        if var in ['bedrooms', 'bathrooms', 'stories', 'parking']:\n",
    "            print(f\"   Distribution: {dict(df[var].value_counts().sort_index())}\")"
   ]
  },
  {
   "cell_type": "code",
   "execution_count": 14,
   "id": "f6be1e6d",
   "metadata": {},
   "outputs": [
    {
     "name": "stdout",
     "output_type": "stream",
     "text": [
      "📊 STATISTIQUES DESCRIPTIVES - VARIABLES CATÉGORIELLES\n",
      "=================================================================\n",
      "\n",
      "🏷️ MAINROAD:\n",
      "------------------------------\n",
      "          Fréquence  Pourcentage\n",
      "mainroad                        \n",
      "yes             468         85.9\n",
      "no               77         14.1\n",
      "\n",
      "🏷️ GUESTROOM:\n",
      "------------------------------\n",
      "           Fréquence  Pourcentage\n",
      "guestroom                        \n",
      "no               448         82.2\n",
      "yes               97         17.8\n",
      "\n",
      "🏷️ BASEMENT:\n",
      "------------------------------\n",
      "          Fréquence  Pourcentage\n",
      "basement                        \n",
      "no              354         65.0\n",
      "yes             191         35.0\n",
      "\n",
      "🏷️ HOTWATERHEATING:\n",
      "------------------------------\n",
      "                 Fréquence  Pourcentage\n",
      "hotwaterheating                        \n",
      "no                     520         95.4\n",
      "yes                     25          4.6\n",
      "\n",
      "🏷️ AIRCONDITIONING:\n",
      "------------------------------\n",
      "                 Fréquence  Pourcentage\n",
      "airconditioning                        \n",
      "no                     373         68.4\n",
      "yes                    172         31.6\n",
      "\n",
      "🏷️ PREFAREA:\n",
      "------------------------------\n",
      "          Fréquence  Pourcentage\n",
      "prefarea                        \n",
      "no              417         76.5\n",
      "yes             128         23.5\n",
      "\n",
      "🏷️ FURNISHINGSTATUS:\n",
      "------------------------------\n",
      "                  Fréquence  Pourcentage\n",
      "furnishingstatus                        \n",
      "semi-furnished          227         41.7\n",
      "unfurnished             178         32.7\n",
      "furnished               140         25.7\n",
      "\n",
      "📊 RÉSUMÉ VARIABLES CATÉGORIELLES:\n",
      "   Total variables catégorielles: 7\n",
      "   Variables yes/no: 6\n",
      "   Variables à valeurs multiples: 1 (furnishingstatus)\n"
     ]
    }
   ],
   "source": [
    "# Vérifier si les données sont chargées, sinon les charger\n",
    "if 'df' not in locals():\n",
    "    print(\"⚠️  Données non chargées, chargement en cours...\")\n",
    "    from pathlib import Path\n",
    "    import pandas as pd\n",
    "    import numpy as np\n",
    "    \n",
    "    data_path = Path('../data/Housing Prices Dataset/Housing.csv')\n",
    "    if data_path.exists():\n",
    "        df = pd.read_csv(data_path)\n",
    "        print(f\"✅ Dataset rechargé: {df.shape[0]} propriétés × {df.shape[1]} variables\")\n",
    "    else:\n",
    "        print(\"❌ Fichier Housing.csv non trouvé!\")\n",
    "\n",
    "# Statistiques pour les variables catégorielles du dataset Housing\n",
    "print(\"📊 STATISTIQUES DESCRIPTIVES - VARIABLES CATÉGORIELLES\")\n",
    "print(\"=\" * 65)\n",
    "\n",
    "# Variables catégorielles réelles du dataset Housing\n",
    "categorical_cols = ['mainroad', 'guestroom', 'basement', 'hotwaterheating', \n",
    "                   'airconditioning', 'prefarea', 'furnishingstatus']\n",
    "\n",
    "if 'df' in locals():\n",
    "    for col in categorical_cols:\n",
    "        if col in df.columns:\n",
    "            print(f\"\\n🏷️ {col.upper()}:\")\n",
    "            print(\"-\" * 30)\n",
    "            value_counts = df[col].value_counts()\n",
    "            percentages = (value_counts / len(df) * 100).round(1)\n",
    "            \n",
    "            result_df = pd.DataFrame({\n",
    "                'Fréquence': value_counts,\n",
    "                'Pourcentage': percentages\n",
    "            })\n",
    "            print(result_df)\n",
    "        else:\n",
    "            print(f\"\\n⚠️ Variable '{col}' non trouvée dans le dataset\")\n",
    "    \n",
    "    # Résumé des variables catégorielles\n",
    "    print(f\"\\n📊 RÉSUMÉ VARIABLES CATÉGORIELLES:\")\n",
    "    print(f\"   Total variables catégorielles: {len([col for col in categorical_cols if col in df.columns])}\")\n",
    "    print(f\"   Variables yes/no: {len([col for col in categorical_cols[:-1] if col in df.columns])}\")\n",
    "    print(f\"   Variables à valeurs multiples: 1 (furnishingstatus)\")\n",
    "else:\n",
    "    print(\"❌ Impossible d'afficher les statistiques - données non disponibles.\")\n",
    "    print(\"💡 Conseil: Exécutez d'abord les cellules de chargement des données.\")"
   ]
  },
  {
   "cell_type": "markdown",
   "id": "d835a315",
   "metadata": {},
   "source": [
    "## 📊 Visualisations Exploratoires\n",
    "\n",
    "Créons des visualisations pour mieux comprendre nos données."
   ]
  },
  {
   "cell_type": "code",
   "execution_count": 15,
   "id": "ad44d431",
   "metadata": {},
   "outputs": [
    {
     "data": {
      "image/png": "[encoded data removed]",
      "text/plain": [
       "<Figure size 1500x1200 with 4 Axes>"
      ]
     },
     "metadata": {},
     "output_type": "display_data"
    },
    {
     "name": "stdout",
     "output_type": "stream",
     "text": [
      "📊 RÉSUMÉ DES DISTRIBUTIONS:\n",
      "===================================\n",
      "💰 Prix: 1,750,000 à 13,300,000 (CV: 0.39)\n",
      "📐 Surface: 1650 à 16200 sq ft (CV: 0.42)\n",
      "🛏️ Chambres: 1 à 6 (mode: 3)\n",
      "🪑 Ameublement: semi-furnished(227), unfurnished(178), furnished(140)\n"
     ]
    }
   ],
   "source": [
    "# Visualisations adaptées au dataset Housing réel\n",
    "fig, axes = plt.subplots(2, 2, figsize=(15, 12))\n",
    "fig.suptitle('🏠 Distributions des Variables Principales - Dataset Housing', fontsize=16, fontweight='bold')\n",
    "\n",
    "# Distribution des prix\n",
    "axes[0, 0].hist(df['price'], bins=30, alpha=0.7, color='skyblue', edgecolor='black')\n",
    "axes[0, 0].axvline(df['price'].mean(), color='red', linestyle='--', \n",
    "                  label=f'Moyenne: {df[\"price\"].mean():,.0f}')\n",
    "axes[0, 0].axvline(df['price'].median(), color='orange', linestyle='--', \n",
    "                  label=f'Médiane: {df[\"price\"].median():,.0f}')\n",
    "axes[0, 0].set_title('Distribution des Prix')\n",
    "axes[0, 0].set_xlabel('Prix')\n",
    "axes[0, 0].set_ylabel('Fréquence')\n",
    "axes[0, 0].legend()\n",
    "axes[0, 0].ticklabel_format(style='scientific', axis='x', scilimits=(0,0))\n",
    "\n",
    "# Distribution des surfaces\n",
    "axes[0, 1].hist(df['area'], bins=30, alpha=0.7, color='lightgreen', edgecolor='black')\n",
    "axes[0, 1].axvline(df['area'].mean(), color='red', linestyle='--', \n",
    "                  label=f'Moyenne: {df[\"area\"].mean():.0f} sq ft')\n",
    "axes[0, 1].set_title('Distribution des Surfaces')\n",
    "axes[0, 1].set_xlabel('Surface (sq ft)')\n",
    "axes[0, 1].set_ylabel('Fréquence')\n",
    "axes[0, 1].legend()\n",
    "\n",
    "# Distribution par nombre de chambres\n",
    "bedroom_counts = df['bedrooms'].value_counts().sort_index()\n",
    "axes[1, 0].bar(bedroom_counts.index, bedroom_counts.values, alpha=0.7, color='coral')\n",
    "axes[1, 0].set_title('Répartition par Nombre de Chambres')\n",
    "axes[1, 0].set_xlabel('Nombre de chambres')\n",
    "axes[1, 0].set_ylabel('Nombre de propriétés')\n",
    "\n",
    "# Distribution par statut d'ameublement\n",
    "furnish_counts = df['furnishingstatus'].value_counts()\n",
    "axes[1, 1].pie(furnish_counts.values, labels=furnish_counts.index, \n",
    "               autopct='%1.1f%%', startangle=90, colors=['lightblue', 'lightcoral', 'lightgreen'])\n",
    "axes[1, 1].set_title('Répartition par Statut d\\'Ameublement')\n",
    "\n",
    "plt.tight_layout()\n",
    "plt.show()\n",
    "\n",
    "# Statistiques résumées par graphique\n",
    "print(\"📊 RÉSUMÉ DES DISTRIBUTIONS:\")\n",
    "print(\"=\" * 35)\n",
    "print(f\"💰 Prix: {df['price'].min():,} à {df['price'].max():,} (CV: {df['price'].std()/df['price'].mean():.2f})\")\n",
    "print(f\"📐 Surface: {df['area'].min()} à {df['area'].max()} sq ft (CV: {df['area'].std()/df['area'].mean():.2f})\")\n",
    "print(f\"🛏️ Chambres: {df['bedrooms'].min()} à {df['bedrooms'].max()} (mode: {df['bedrooms'].mode()[0]})\")\n",
    "print(f\"🪑 Ameublement: {', '.join([f'{k}({v})' for k,v in df['furnishingstatus'].value_counts().items()])}\")"
   ]
  },
  {
   "cell_type": "code",
   "execution_count": 16,
   "id": "dd1a453f",
   "metadata": {},
   "outputs": [
    {
     "data": {
      "application/vnd.plotly.v1+json": {
       "config": {
        "plotlyServerURL": "https://plot.ly"
       },
       "data": [
        {
         "alignmentgroup": "True",
         "hovertemplate": "Statut d'ameublement=%{x}<br>Prix=%{y}<extra></extra>",
         "legendgroup": "furnished",
         "marker": {
          "color": "#636efa"
         },
         "name": "furnished",
         "notched": false,
         "offsetgroup": "furnished",
         "orientation": "v",
         "showlegend": true,
         "type": "box",
         "x": [
          "furnished",
          "furnished",
          "furnished",
          "furnished",
          "furnished",
          "furnished",
          "furnished",
          "furnished",
          "furnished",
          "furnished",
          "furnished",
          "furnished",
          "furnished",
          "furnished",
          "furnished",
          "furnished",
          "furnished",
          "furnished",
          "furnished",
          "furnished",
          "furnished",
          "furnished",
          "furnished",
          "furnished",
          "furnished",
          "furnished",
          "furnished",
          "furnished",
          "furnished",
          "furnished",
          "furnished",
          "furnished",
          "furnished",
          "furnished",
          "furnished",
          "furnished",
          "furnished",
          "furnished",
          "furnished",
          "furnished",
          "furnished",
          "furnished",
          "furnished",
          "furnished",
          "furnished",
          "furnished",
          "furnished",
          "furnished",
          "furnished",
          "furnished",
          "furnished",
          "furnished",
          "furnished",
          "furnished",
          "furnished",
          "furnished",
          "furnished",
          "furnished",
          "furnished",
          "furnished",
          "furnished",
          "furnished",
          "furnished",
          "furnished",
          "furnished",
          "furnished",
          "furnished",
          "furnished",
          "furnished",
          "furnished",
          "furnished",
          "furnished",
          "furnished",
          "furnished",
          "furnished",
          "furnished",
          "furnished",
          "furnished",
          "furnished",
          "furnished",
          "furnished",
          "furnished",
          "furnished",
          "furnished",
          "furnished",
          "furnished",
          "furnished",
          "furnished",
          "furnished",
          "furnished",
          "furnished",
          "furnished",
          "furnished",
          "furnished",
          "furnished",
          "furnished",
          "furnished",
          "furnished",
          "furnished",
          "furnished",
          "furnished",
          "furnished",
          "furnished",
          "furnished",
          "furnished",
          "furnished",
          "furnished",
          "furnished",
          "furnished",
          "furnished",
          "furnished",
          "furnished",
          "furnished",
          "furnished",
          "furnished",
          "furnished",
          "furnished",
          "furnished",
          "furnished",
          "furnished",
          "furnished",
          "furnished",
          "furnished",
          "furnished",
          "furnished",
          "furnished",
          "furnished",
          "furnished",
          "furnished",
          "furnished",
          "furnished",
          "furnished",
          "furnished",
          "furnished",
          "furnished",
          "furnished",
          "furnished",
          "furnished",
          "furnished",
          "furnished"
         ],
         "x0": " ",
         "xaxis": "x",
         "y": {
          "bdata": "IPHKAJDrugDYYroAUBquALCalgBAiZUAwP2MAAC4iACQpocAiOmDAIjpgwAY2IIAYE+CAFiSfgDA5nsALE57APi5egDgw3kAuCl4AAChdwBAW3MAiNJyANBJcgDwJnAAyIxuABAEbgAw4WsAeFhrAMDPagBQvmkAUL5pAOCsaABwm2cASAFmAJB4ZQCQeGUAkHhlAJB4ZQCQeGUA2O9kALBVYwBARGIAOPJhAIi7YQBgIWAAOIdeADiHXgC40VwAuNFcAKDbWwAwyloAMMpaADDKWgAwyloAMMpaAGidWQDglVcAAHNVAABzVQBI6lQAkGFUANjYUwAgUFMAIFBTALA+UgDQG1AA0BtQABiTTwDw+E0A8PhNAIDnTACA50wA+N9KAKDESgAws0kAwKFIAFCQRwCYB0cAKPZFAHBtRQBwbUUAGFJFALjkRAAAXEQAAFxEAKhARACoQEQAIDlCACA5QgAY50EAsCdBALAnQQCwJ0EAsCdBAPieQABAFkAAQBZAAMSJPgBg8z0AqGo9APDhPACA0DsAgNA7AIDQOwDIRzsAEL86AKCtOQCgrTkASJI5AEiSOQBIkjkAMJw4ANiAOAB4EzgAeBM4AMCKNwBQeTYAUHk2AFB5NgDgZzUAKN80AHBWNAC4zTMAuM0zAABFMwCoKTMAoNcyAJAzMgCQMzIAICIxALAQMADQ7S0AYNwsADhCKwCAuSoAMIUnAMBzJgDgUCQA4FAkAPCzGgA=",
          "dtype": "i4"
         },
         "y0": " ",
         "yaxis": "y"
        },
        {
         "alignmentgroup": "True",
         "hovertemplate": "Statut d'ameublement=%{x}<br>Prix=%{y}<extra></extra>",
         "legendgroup": "semi-furnished",
         "marker": {
          "color": "#EF553B"
         },
         "name": "semi-furnished",
         "notched": false,
         "offsetgroup": "semi-furnished",
         "orientation": "v",
         "showlegend": true,
         "type": "box",
         "x": [
          "semi-furnished",
          "semi-furnished",
          "semi-furnished",
          "semi-furnished",
          "semi-furnished",
          "semi-furnished",
          "semi-furnished",
          "semi-furnished",
          "semi-furnished",
          "semi-furnished",
          "semi-furnished",
          "semi-furnished",
          "semi-furnished",
          "semi-furnished",
          "semi-furnished",
          "semi-furnished",
          "semi-furnished",
          "semi-furnished",
          "semi-furnished",
          "semi-furnished",
          "semi-furnished",
          "semi-furnished",
          "semi-furnished",
          "semi-furnished",
          "semi-furnished",
          "semi-furnished",
          "semi-furnished",
          "semi-furnished",
          "semi-furnished",
          "semi-furnished",
          "semi-furnished",
          "semi-furnished",
          "semi-furnished",
          "semi-furnished",
          "semi-furnished",
          "semi-furnished",
          "semi-furnished",
          "semi-furnished",
          "semi-furnished",
          "semi-furnished",
          "semi-furnished",
          "semi-furnished",
          "semi-furnished",
          "semi-furnished",
          "semi-furnished",
          "semi-furnished",
          "semi-furnished",
          "semi-furnished",
          "semi-furnished",
          "semi-furnished",
          "semi-furnished",
          "semi-furnished",
          "semi-furnished",
          "semi-furnished",
          "semi-furnished",
          "semi-furnished",
          "semi-furnished",
          "semi-furnished",
          "semi-furnished",
          "semi-furnished",
          "semi-furnished",
          "semi-furnished",
          "semi-furnished",
          "semi-furnished",
          "semi-furnished",
          "semi-furnished",
          "semi-furnished",
          "semi-furnished",
          "semi-furnished",
          "semi-furnished",
          "semi-furnished",
          "semi-furnished",
          "semi-furnished",
          "semi-furnished",
          "semi-furnished",
          "semi-furnished",
          "semi-furnished",
          "semi-furnished",
          "semi-furnished",
          "semi-furnished",
          "semi-furnished",
          "semi-furnished",
          "semi-furnished",
          "semi-furnished",
          "semi-furnished",
          "semi-furnished",
          "semi-furnished",
          "semi-furnished",
          "semi-furnished",
          "semi-furnished",
          "semi-furnished",
          "semi-furnished",
          "semi-furnished",
          "semi-furnished",
          "semi-furnished",
          "semi-furnished",
          "semi-furnished",
          "semi-furnished",
          "semi-furnished",
          "semi-furnished",
          "semi-furnished",
          "semi-furnished",
          "semi-furnished",
          "semi-furnished",
          "semi-furnished",
          "semi-furnished",
          "semi-furnished",
          "semi-furnished",
          "semi-furnished",
          "semi-furnished",
          "semi-furnished",
          "semi-furnished",
          "semi-furnished",
          "semi-furnished",
          "semi-furnished",
          "semi-furnished",
          "semi-furnished",
          "semi-furnished",
          "semi-furnished",
          "semi-furnished",
          "semi-furnished",
          "semi-furnished",
          "semi-furnished",
          "semi-furnished",
          "semi-furnished",
          "semi-furnished",
          "semi-furnished",
          "semi-furnished",
          "semi-furnished",
          "semi-furnished",
          "semi-furnished",
          "semi-furnished",
          "semi-furnished",
          "semi-furnished",
          "semi-furnished",
          "semi-furnished",
          "semi-furnished",
          "semi-furnished",
          "semi-furnished",
          "semi-furnished",
          "semi-furnished",
          "semi-furnished",
          "semi-furnished",
          "semi-furnished",
          "semi-furnished",
          "semi-furnished",
          "semi-furnished",
          "semi-furnished",
          "semi-furnished",
          "semi-furnished",
          "semi-furnished",
          "semi-furnished",
          "semi-furnished",
          "semi-furnished",
          "semi-furnished",
          "semi-furnished",
          "semi-furnished",
          "semi-furnished",
          "semi-furnished",
          "semi-furnished",
          "semi-furnished",
          "semi-furnished",
          "semi-furnished",
          "semi-furnished",
          "semi-furnished",
          "semi-furnished",
          "semi-furnished",
          "semi-furnished",
          "semi-furnished",
          "semi-furnished",
          "semi-furnished",
          "semi-furnished",
          "semi-furnished",
          "semi-furnished",
          "semi-furnished",
          "semi-furnished",
          "semi-furnished",
          "semi-furnished",
          "semi-furnished",
          "semi-furnished",
          "semi-furnished",
          "semi-furnished",
          "semi-furnished",
          "semi-furnished",
          "semi-furnished",
          "semi-furnished",
          "semi-furnished",
          "semi-furnished",
          "semi-furnished",
          "semi-furnished",
          "semi-furnished",
          "semi-furnished",
          "semi-furnished",
          "semi-furnished",
          "semi-furnished",
          "semi-furnished",
          "semi-furnished",
          "semi-furnished",
          "semi-furnished",
          "semi-furnished",
          "semi-furnished",
          "semi-furnished",
          "semi-furnished",
          "semi-furnished",
          "semi-furnished",
          "semi-furnished",
          "semi-furnished",
          "semi-furnished",
          "semi-furnished",
          "semi-furnished",
          "semi-furnished",
          "semi-furnished",
          "semi-furnished",
          "semi-furnished",
          "semi-furnished",
          "semi-furnished",
          "semi-furnished",
          "semi-furnished",
          "semi-furnished",
          "semi-furnished",
          "semi-furnished",
          "semi-furnished",
          "semi-furnished",
          "semi-furnished",
          "semi-furnished",
          "semi-furnished",
          "semi-furnished"
         ],
         "x0": " ",
         "xaxis": "x",
         "y": {
          "bdata": "kOu6ANCOpQBw4JoAaLiTADAPjgDA/YwA4NqKANgdhwCwg4UAmCKBAIAsgACALIAAgCyAAHCyeAAgfnUAQFtzAGA4cQDwJnAA8CZwAJgLcAAQBG4AoPJsADDhawBwm2cAkHhlAIgmZQDY72QAIGdkALBVYwD4zGIAQERiAGAhYABgIWAAYCFgAGAhYAA4h14AgP5dAGwxXQAQ7VwAEO1cAKDbWwAwyloAMMpaADDKWgDYrloAaJ1ZAFCnWABQp1gA+ItYAOCVVwDglVcAFEBWAABzVQAAc1UAAHNVAABzVQAAc1UASOpUAJBhVACQYVQAOEZUANjYUwAgUFMAIFBTAGjHUgCIpFAA0BtQANAbUADQG1AA0BtQAHgAUADIyU8AGJNPABiTTwCogU4AqIFOAPD4TQCA50wAgOdMACjMTADIXkwAENZLABDWSwBgn0sAWE1LAKDESgCgxEoAoMRKAKDESgCgxEoAoMRKAKDESgCgxEoAoMRKAKDESgBIqUoASKlKADCzSQAws0kAeCpJABi9SADAoUgAaIZIAFCQRwBQkEcAUJBHAFCQRwBQkEcA4H5GAOB+RgDgfkYA4H5GAIhjRgAo9kUAcG1FAHBtRQBwbUUAGFJFALjkRAC45EQAuOREAABcRAAAXEQAqEBEAEjTQwCQSkMAkEpDADgvQwA4L0MAMN1CACA5QgAgOUIAIDlCAGiwQQBosEEACENBAPieQABAFkAAQBZAAEAWQABAFkAAQBZAAEAWQABAFkAAQBZAAEAWQADo+j8A6Po/AIiNPwCIjT8AiI0/ANAEPwDQBD8AeOk+ABh8PgAYfD4AGHw+AGDzPQBg8z0AqGo9AKhqPQBMJj0ATCY9APDhPADw4TwAgNA7AIDQOwCA0DsAyEc7ABC/OgAQvzoAEL86ABC/OgAQvzoAEL86AFg2OgCgrTkAoK05AKCtOQDoJDkAMJw4ADCcOAAwnDgA2IA4AHgTOADAijcAwIo3AMCKNwDAijcAwIo3AMCKNwAIAjcACAI3AOBnNQDgZzUA4Gc1AOBnNQDgZzUA4Gc1AABFMwAARTMAkDMyAJAzMgDYqjEAsBAwALAQMACwEDAAsBAwALAQMAACly8AQP8uAED/LgDQ7S0A0O0tANDtLQDQ7S0AaC4tAGDcLABg3CwA8MorADhCKwCgligAoJYoAKCWKAAI6yUAuLYiAO72GgA=",
          "dtype": "i4"
         },
         "y0": " ",
         "yaxis": "y"
        },
        {
         "alignmentgroup": "True",
         "hovertemplate": "Statut d'ameublement=%{x}<br>Prix=%{y}<extra></extra>",
         "legendgroup": "unfurnished",
         "marker": {
          "color": "#00cc96"
         },
         "name": "unfurnished",
         "notched": false,
         "offsetgroup": "unfurnished",
         "orientation": "v",
         "showlegend": true,
         "type": "box",
         "x": [
          "unfurnished",
          "unfurnished",
          "unfurnished",
          "unfurnished",
          "unfurnished",
          "unfurnished",
          "unfurnished",
          "unfurnished",
          "unfurnished",
          "unfurnished",
          "unfurnished",
          "unfurnished",
          "unfurnished",
          "unfurnished",
          "unfurnished",
          "unfurnished",
          "unfurnished",
          "unfurnished",
          "unfurnished",
          "unfurnished",
          "unfurnished",
          "unfurnished",
          "unfurnished",
          "unfurnished",
          "unfurnished",
          "unfurnished",
          "unfurnished",
          "unfurnished",
          "unfurnished",
          "unfurnished",
          "unfurnished",
          "unfurnished",
          "unfurnished",
          "unfurnished",
          "unfurnished",
          "unfurnished",
          "unfurnished",
          "unfurnished",
          "unfurnished",
          "unfurnished",
          "unfurnished",
          "unfurnished",
          "unfurnished",
          "unfurnished",
          "unfurnished",
          "unfurnished",
          "unfurnished",
          "unfurnished",
          "unfurnished",
          "unfurnished",
          "unfurnished",
          "unfurnished",
          "unfurnished",
          "unfurnished",
          "unfurnished",
          "unfurnished",
          "unfurnished",
          "unfurnished",
          "unfurnished",
          "unfurnished",
          "unfurnished",
          "unfurnished",
          "unfurnished",
          "unfurnished",
          "unfurnished",
          "unfurnished",
          "unfurnished",
          "unfurnished",
          "unfurnished",
          "unfurnished",
          "unfurnished",
          "unfurnished",
          "unfurnished",
          "unfurnished",
          "unfurnished",
          "unfurnished",
          "unfurnished",
          "unfurnished",
          "unfurnished",
          "unfurnished",
          "unfurnished",
          "unfurnished",
          "unfurnished",
          "unfurnished",
          "unfurnished",
          "unfurnished",
          "unfurnished",
          "unfurnished",
          "unfurnished",
          "unfurnished",
          "unfurnished",
          "unfurnished",
          "unfurnished",
          "unfurnished",
          "unfurnished",
          "unfurnished",
          "unfurnished",
          "unfurnished",
          "unfurnished",
          "unfurnished",
          "unfurnished",
          "unfurnished",
          "unfurnished",
          "unfurnished",
          "unfurnished",
          "unfurnished",
          "unfurnished",
          "unfurnished",
          "unfurnished",
          "unfurnished",
          "unfurnished",
          "unfurnished",
          "unfurnished",
          "unfurnished",
          "unfurnished",
          "unfurnished",
          "unfurnished",
          "unfurnished",
          "unfurnished",
          "unfurnished",
          "unfurnished",
          "unfurnished",
          "unfurnished",
          "unfurnished",
          "unfurnished",
          "unfurnished",
          "unfurnished",
          "unfurnished",
          "unfurnished",
          "unfurnished",
          "unfurnished",
          "unfurnished",
          "unfurnished",
          "unfurnished",
          "unfurnished",
          "unfurnished",
          "unfurnished",
          "unfurnished",
          "unfurnished",
          "unfurnished",
          "unfurnished",
          "unfurnished",
          "unfurnished",
          "unfurnished",
          "unfurnished",
          "unfurnished",
          "unfurnished",
          "unfurnished",
          "unfurnished",
          "unfurnished",
          "unfurnished",
          "unfurnished",
          "unfurnished",
          "unfurnished",
          "unfurnished",
          "unfurnished",
          "unfurnished",
          "unfurnished",
          "unfurnished",
          "unfurnished",
          "unfurnished",
          "unfurnished",
          "unfurnished",
          "unfurnished",
          "unfurnished",
          "unfurnished",
          "unfurnished",
          "unfurnished",
          "unfurnished",
          "unfurnished",
          "unfurnished",
          "unfurnished",
          "unfurnished",
          "unfurnished",
          "unfurnished",
          "unfurnished",
          "unfurnished",
          "unfurnished"
         ],
         "x0": " ",
         "xaxis": "x",
         "y": {
          "bdata": "cOCaAECJlQDg2ooAQHKEAIAsgACALIAAMPh8AIR/eQAgfnUAGMFxAGA4cQBgOHEA8CZwAJg1aQC4EmcAAIpmALBVYwD4zGIACAZgAKiYXwDwD18A8A9fAID+XQDIdV0AEO1cAKDbWwDAuFkAwLhZABCCWQBQp1gAmB5YAOCVVwDglVcAAHNVAABzVQBYI1IAQC1RANAbUADQG1AA0BtQAPD4TQA4cE0AoMRKAOg7SgAws0kAeCpJAMChSADgfkYAcG1FAHBtRQAAXEQAOC9DANjBQgCwJ0EAsCdBAEAWQABAFkAAQBZAAEAWQABAFkAAQBZAAGDzPQBg8z0A8OE8APDhPACA0DsAYIg6AKCtOQAwnDgAeBM4AMCKNwDAijcAaG83AFB5NgCY8DUA4Gc1AOBnNQDgZzUA4Gc1AOBnNQDgZzUA4Gc1AOBnNQDgZzUA4Gc1AIhMNQAo3zQAKN80AHBWNABwVjQAcFY0AHBWNABwVjQAGDs0ALjNMwAARTMAAEUzAABFMwAARTMAAEUzAEi8MgBIvDIAkDMyAJAzMgCQMzIAkDMyANiqMQDQWDEAICIxACAiMQAgIjEAsBAwALAQMACwEDAAWPUvAKi+LwD4hy8A+IcvAPiHLwCYGi8AQP8uAED/LgCIdi4A0O0tANDtLQB40i0AGGUtAGDcLABg3CwAYNwsAGDcLABg3CwA8MorAPDKKwDwyisAlIYrADhCKwCAuSoAEKgpABCoKQBYHykAoJYoAKCWKACgligAoJYoAEh7KABIeygA4LsnADCFJwAwhScAwHMmAMBzJgAI6yUAUGIlAFBiJQBQYiUAUGIlAFBiJQBQYiUAQL4kAOBQJAAoyCMAcD8jALi2IgC4tiIAAC4iAKgSIgDYkyAAIAsgACALIAAgCyAAQOgdANDWHADQ1hwAGE4cAGDFGwDwsxoA8LMaAA==",
          "dtype": "i4"
         },
         "y0": " ",
         "yaxis": "y"
        }
       ],
       "layout": {
        "boxmode": "overlay",
        "height": 500,
        "legend": {
         "title": {
          "text": "Statut d'ameublement"
         },
         "tracegroupgap": 0
        },
        "showlegend": false,
        "template": {
         "data": {
          "bar": [
           {
            "error_x": {
             "color": "#2a3f5f"
            },
            "error_y": {
             "color": "#2a3f5f"
            },
            "marker": {
             "line": {
              "color": "#E5ECF6",
              "width": 0.5
             },
             "pattern": {
              "fillmode": "overlay",
              "size": 10,
              "solidity": 0.2
             }
            },
            "type": "bar"
           }
          ],
          "barpolar": [
           {
            "marker": {
             "line": {
              "color": "#E5ECF6",
              "width": 0.5
             },
             "pattern": {
              "fillmode": "overlay",
              "size": 10,
              "solidity": 0.2
             }
            },
            "type": "barpolar"
           }
          ],
          "carpet": [
           {
            "aaxis": {
             "endlinecolor": "#2a3f5f",
             "gridcolor": "white",
             "linecolor": "white",
             "minorgridcolor": "white",
             "startlinecolor": "#2a3f5f"
            },
            "baxis": {
             "endlinecolor": "#2a3f5f",
             "gridcolor": "white",
             "linecolor": "white",
             "minorgridcolor": "white",
             "startlinecolor": "#2a3f5f"
            },
            "type": "carpet"
           }
          ],
          "choropleth": [
           {
            "colorbar": {
             "outlinewidth": 0,
             "ticks": ""
            },
            "type": "choropleth"
           }
          ],
          "contour": [
           {
            "colorbar": {
             "outlinewidth": 0,
             "ticks": ""
            },
            "colorscale": [
             [
              0,
              "#0d0887"
             ],
             [
              0.1111111111111111,
              "#46039f"
             ],
             [
              0.2222222222222222,
              "#7201a8"
             ],
             [
              0.3333333333333333,
              "#9c179e"
             ],
             [
              0.4444444444444444,
              "#bd3786"
             ],
             [
              0.5555555555555556,
              "#d8576b"
             ],
             [
              0.6666666666666666,
              "#ed7953"
             ],
             [
              0.7777777777777778,
              "#fb9f3a"
             ],
             [
              0.8888888888888888,
              "#fdca26"
             ],
             [
              1,
              "#f0f921"
             ]
            ],
            "type": "contour"
           }
          ],
          "contourcarpet": [
           {
            "colorbar": {
             "outlinewidth": 0,
             "ticks": ""
            },
            "type": "contourcarpet"
           }
          ],
          "heatmap": [
           {
            "colorbar": {
             "outlinewidth": 0,
             "ticks": ""
            },
            "colorscale": [
             [
              0,
              "#0d0887"
             ],
             [
              0.1111111111111111,
              "#46039f"
             ],
             [
              0.2222222222222222,
              "#7201a8"
             ],
             [
              0.3333333333333333,
              "#9c179e"
             ],
             [
              0.4444444444444444,
              "#bd3786"
             ],
             [
              0.5555555555555556,
              "#d8576b"
             ],
             [
              0.6666666666666666,
              "#ed7953"
             ],
             [
              0.7777777777777778,
              "#fb9f3a"
             ],
             [
              0.8888888888888888,
              "#fdca26"
             ],
             [
              1,
              "#f0f921"
             ]
            ],
            "type": "heatmap"
           }
          ],
          "histogram": [
           {
            "marker": {
             "pattern": {
              "fillmode": "overlay",
              "size": 10,
              "solidity": 0.2
             }
            },
            "type": "histogram"
           }
          ],
          "histogram2d": [
           {
            "colorbar": {
             "outlinewidth": 0,
             "ticks": ""
            },
            "colorscale": [
             [
              0,
              "#0d0887"
             ],
             [
              0.1111111111111111,
              "#46039f"
             ],
             [
              0.2222222222222222,
              "#7201a8"
             ],
             [
              0.3333333333333333,
              "#9c179e"
             ],
             [
              0.4444444444444444,
              "#bd3786"
             ],
             [
              0.5555555555555556,
              "#d8576b"
             ],
             [
              0.6666666666666666,
              "#ed7953"
             ],
             [
              0.7777777777777778,
              "#fb9f3a"
             ],
             [
              0.8888888888888888,
              "#fdca26"
             ],
             [
              1,
              "#f0f921"
             ]
            ],
            "type": "histogram2d"
           }
          ],
          "histogram2dcontour": [
           {
            "colorbar": {
             "outlinewidth": 0,
             "ticks": ""
            },
            "colorscale": [
             [
              0,
              "#0d0887"
             ],
             [
              0.1111111111111111,
              "#46039f"
             ],
             [
              0.2222222222222222,
              "#7201a8"
             ],
             [
              0.3333333333333333,
              "#9c179e"
             ],
             [
              0.4444444444444444,
              "#bd3786"
             ],
             [
              0.5555555555555556,
              "#d8576b"
             ],
             [
              0.6666666666666666,
              "#ed7953"
             ],
             [
              0.7777777777777778,
              "#fb9f3a"
             ],
             [
              0.8888888888888888,
              "#fdca26"
             ],
             [
              1,
              "#f0f921"
             ]
            ],
            "type": "histogram2dcontour"
           }
          ],
          "mesh3d": [
           {
            "colorbar": {
             "outlinewidth": 0,
             "ticks": ""
            },
            "type": "mesh3d"
           }
          ],
          "parcoords": [
           {
            "line": {
             "colorbar": {
              "outlinewidth": 0,
              "ticks": ""
             }
            },
            "type": "parcoords"
           }
          ],
          "pie": [
           {
            "automargin": true,
            "type": "pie"
           }
          ],
          "scatter": [
           {
            "fillpattern": {
             "fillmode": "overlay",
             "size": 10,
             "solidity": 0.2
            },
            "type": "scatter"
           }
          ],
          "scatter3d": [
           {
            "line": {
             "colorbar": {
              "outlinewidth": 0,
              "ticks": ""
             }
            },
            "marker": {
             "colorbar": {
              "outlinewidth": 0,
              "ticks": ""
             }
            },
            "type": "scatter3d"
           }
          ],
          "scattercarpet": [
           {
            "marker": {
             "colorbar": {
              "outlinewidth": 0,
              "ticks": ""
             }
            },
            "type": "scattercarpet"
           }
          ],
          "scattergeo": [
           {
            "marker": {
             "colorbar": {
              "outlinewidth": 0,
              "ticks": ""
             }
            },
            "type": "scattergeo"
           }
          ],
          "scattergl": [
           {
            "marker": {
             "colorbar": {
              "outlinewidth": 0,
              "ticks": ""
             }
            },
            "type": "scattergl"
           }
          ],
          "scattermap": [
           {
            "marker": {
             "colorbar": {
              "outlinewidth": 0,
              "ticks": ""
             }
            },
            "type": "scattermap"
           }
          ],
          "scattermapbox": [
           {
            "marker": {
             "colorbar": {
              "outlinewidth": 0,
              "ticks": ""
             }
            },
            "type": "scattermapbox"
           }
          ],
          "scatterpolar": [
           {
            "marker": {
             "colorbar": {
              "outlinewidth": 0,
              "ticks": ""
             }
            },
            "type": "scatterpolar"
           }
          ],
          "scatterpolargl": [
           {
            "marker": {
             "colorbar": {
              "outlinewidth": 0,
              "ticks": ""
             }
            },
            "type": "scatterpolargl"
           }
          ],
          "scatterternary": [
           {
            "marker": {
             "colorbar": {
              "outlinewidth": 0,
              "ticks": ""
             }
            },
            "type": "scatterternary"
           }
          ],
          "surface": [
           {
            "colorbar": {
             "outlinewidth": 0,
             "ticks": ""
            },
            "colorscale": [
             [
              0,
              "#0d0887"
             ],
             [
              0.1111111111111111,
              "#46039f"
             ],
             [
              0.2222222222222222,
              "#7201a8"
             ],
             [
              0.3333333333333333,
              "#9c179e"
             ],
             [
              0.4444444444444444,
              "#bd3786"
             ],
             [
              0.5555555555555556,
              "#d8576b"
             ],
             [
              0.6666666666666666,
              "#ed7953"
             ],
             [
              0.7777777777777778,
              "#fb9f3a"
             ],
             [
              0.8888888888888888,
              "#fdca26"
             ],
             [
              1,
              "#f0f921"
             ]
            ],
            "type": "surface"
           }
          ],
          "table": [
           {
            "cells": {
             "fill": {
              "color": "#EBF0F8"
             },
             "line": {
              "color": "white"
             }
            },
            "header": {
             "fill": {
              "color": "#C8D4E3"
             },
             "line": {
              "color": "white"
             }
            },
            "type": "table"
           }
          ]
         },
         "layout": {
          "annotationdefaults": {
           "arrowcolor": "#2a3f5f",
           "arrowhead": 0,
           "arrowwidth": 1
          },
          "autotypenumbers": "strict",
          "coloraxis": {
           "colorbar": {
            "outlinewidth": 0,
            "ticks": ""
           }
          },
          "colorscale": {
           "diverging": [
            [
             0,
             "#8e0152"
            ],
            [
             0.1,
             "#c51b7d"
            ],
            [
             0.2,
             "#de77ae"
            ],
            [
             0.3,
             "#f1b6da"
            ],
            [
             0.4,
             "#fde0ef"
            ],
            [
             0.5,
             "#f7f7f7"
            ],
            [
             0.6,
             "#e6f5d0"
            ],
            [
             0.7,
             "#b8e186"
            ],
            [
             0.8,
             "#7fbc41"
            ],
            [
             0.9,
             "#4d9221"
            ],
            [
             1,
             "#276419"
            ]
           ],
           "sequential": [
            [
             0,
             "#0d0887"
            ],
            [
             0.1111111111111111,
             "#46039f"
            ],
            [
             0.2222222222222222,
             "#7201a8"
            ],
            [
             0.3333333333333333,
             "#9c179e"
            ],
            [
             0.4444444444444444,
             "#bd3786"
            ],
            [
             0.5555555555555556,
             "#d8576b"
            ],
            [
             0.6666666666666666,
             "#ed7953"
            ],
            [
             0.7777777777777778,
             "#fb9f3a"
            ],
            [
             0.8888888888888888,
             "#fdca26"
            ],
            [
             1,
             "#f0f921"
            ]
           ],
           "sequentialminus": [
            [
             0,
             "#0d0887"
            ],
            [
             0.1111111111111111,
             "#46039f"
            ],
            [
             0.2222222222222222,
             "#7201a8"
            ],
            [
             0.3333333333333333,
             "#9c179e"
            ],
            [
             0.4444444444444444,
             "#bd3786"
            ],
            [
             0.5555555555555556,
             "#d8576b"
            ],
            [
             0.6666666666666666,
             "#ed7953"
            ],
            [
             0.7777777777777778,
             "#fb9f3a"
            ],
            [
             0.8888888888888888,
             "#fdca26"
            ],
            [
             1,
             "#f0f921"
            ]
           ]
          },
          "colorway": [
           "#636efa",
           "#EF553B",
           "#00cc96",
           "#ab63fa",
           "#FFA15A",
           "#19d3f3",
           "#FF6692",
           "#B6E880",
           "#FF97FF",
           "#FECB52"
          ],
          "font": {
           "color": "#2a3f5f"
          },
          "geo": {
           "bgcolor": "white",
           "lakecolor": "white",
           "landcolor": "#E5ECF6",
           "showlakes": true,
           "showland": true,
           "subunitcolor": "white"
          },
          "hoverlabel": {
           "align": "left"
          },
          "hovermode": "closest",
          "mapbox": {
           "style": "light"
          },
          "paper_bgcolor": "white",
          "plot_bgcolor": "#E5ECF6",
          "polar": {
           "angularaxis": {
            "gridcolor": "white",
            "linecolor": "white",
            "ticks": ""
           },
           "bgcolor": "#E5ECF6",
           "radialaxis": {
            "gridcolor": "white",
            "linecolor": "white",
            "ticks": ""
           }
          },
          "scene": {
           "xaxis": {
            "backgroundcolor": "#E5ECF6",
            "gridcolor": "white",
            "gridwidth": 2,
            "linecolor": "white",
            "showbackground": true,
            "ticks": "",
            "zerolinecolor": "white"
           },
           "yaxis": {
            "backgroundcolor": "#E5ECF6",
            "gridcolor": "white",
            "gridwidth": 2,
            "linecolor": "white",
            "showbackground": true,
            "ticks": "",
            "zerolinecolor": "white"
           },
           "zaxis": {
            "backgroundcolor": "#E5ECF6",
            "gridcolor": "white",
            "gridwidth": 2,
            "linecolor": "white",
            "showbackground": true,
            "ticks": "",
            "zerolinecolor": "white"
           }
          },
          "shapedefaults": {
           "line": {
            "color": "#2a3f5f"
           }
          },
          "ternary": {
           "aaxis": {
            "gridcolor": "white",
            "linecolor": "white",
            "ticks": ""
           },
           "baxis": {
            "gridcolor": "white",
            "linecolor": "white",
            "ticks": ""
           },
           "bgcolor": "#E5ECF6",
           "caxis": {
            "gridcolor": "white",
            "linecolor": "white",
            "ticks": ""
           }
          },
          "title": {
           "x": 0.05
          },
          "xaxis": {
           "automargin": true,
           "gridcolor": "white",
           "linecolor": "white",
           "ticks": "",
           "title": {
            "standoff": 15
           },
           "zerolinecolor": "white",
           "zerolinewidth": 2
          },
          "yaxis": {
           "automargin": true,
           "gridcolor": "white",
           "linecolor": "white",
           "ticks": "",
           "title": {
            "standoff": 15
           },
           "zerolinecolor": "white",
           "zerolinewidth": 2
          }
         }
        },
        "title": {
         "text": "📊 Distribution des Prix par Statut d'Ameublement"
        },
        "xaxis": {
         "anchor": "y",
         "categoryarray": [
          "furnished",
          "semi-furnished",
          "unfurnished"
         ],
         "categoryorder": "array",
         "domain": [
          0,
          1
         ],
         "title": {
          "text": "Statut d'ameublement"
         }
        },
        "yaxis": {
         "anchor": "x",
         "domain": [
          0,
          1
         ],
         "title": {
          "text": "Prix"
         }
        }
       }
      }
     },
     "metadata": {},
     "output_type": "display_data"
    },
    {
     "name": "stdout",
     "output_type": "stream",
     "text": [
      "💰 ANALYSE COMPARATIVE DES PRIX\n",
      "========================================\n",
      "\n",
      "🪑 PRIX PAR STATUT D'AMEUBLEMENT:\n",
      "                    Moyenne    Médiane  Nombre\n",
      "furnishingstatus                              \n",
      "furnished         5495696.0  5075000.0     140\n",
      "semi-furnished    4907524.0  4585000.0     227\n",
      "unfurnished       4013831.0  3430000.0     178\n",
      "\n",
      "🛏️ PRIX PAR NOMBRE DE CHAMBRES:\n",
      "            Moyenne    Médiane  Nombre\n",
      "bedrooms                              \n",
      "1         2712500.0  2712500.0       2\n",
      "2         3632022.0  3535000.0     136\n",
      "3         4954598.0  4620000.0     300\n",
      "4         5729758.0  5250000.0      95\n",
      "5         5819800.0  5582500.0      10\n",
      "6         4791500.0  4791500.0       2\n",
      "\n",
      "⭐ IMPACT DES ÉQUIPEMENTS PREMIUM:\n",
      "   airconditioning : + 1821281 (+43.4%) [172 propriétés]\n",
      "   guestroom       : + 1248351 (+27.5%) [ 97 propriétés]\n",
      "   basement        : +  732649 (+16.2%) [191 propriétés]\n",
      "   hotwaterheating : +  831367 (+17.6%) [ 25 propriétés]\n",
      "   prefarea        : + 1453747 (+32.9%) [128 propriétés]\n",
      "\n",
      "📐 PRIX PAR QUARTILE DE SUPERFICIE:\n",
      "                 Prix moyen  Nombre\n",
      "area_quartile                      \n",
      "Q1 (Petit)        3536094.0     144\n",
      "Q2 (Moyen)        4102658.0     133\n",
      "Q3 (Grand)        5289105.0     133\n",
      "Q4 (Très grand)   6219003.0     135\n"
     ]
    }
   ],
   "source": [
    "# Analyse des prix par équipements - Graphiques interactifs\n",
    "fig = px.box(df, x='furnishingstatus', y='price', \n",
    "            title='📊 Distribution des Prix par Statut d\\'Ameublement',\n",
    "            labels={'price': 'Prix', 'furnishingstatus': 'Statut d\\'ameublement'},\n",
    "            color='furnishingstatus')\n",
    "\n",
    "fig.update_layout(height=500, showlegend=False)\n",
    "fig.show()\n",
    "\n",
    "# Analyse comparative des prix par équipements\n",
    "print(\"💰 ANALYSE COMPARATIVE DES PRIX\")\n",
    "print(\"=\" * 40)\n",
    "\n",
    "# Prix par statut d'ameublement\n",
    "prix_ameublement = df.groupby('furnishingstatus')['price'].agg(['mean', 'median', 'count']).round(0)\n",
    "prix_ameublement.columns = ['Moyenne', 'Médiane', 'Nombre']\n",
    "prix_ameublement = prix_ameublement.sort_values('Moyenne', ascending=False)\n",
    "print(\"\\n🪑 PRIX PAR STATUT D'AMEUBLEMENT:\")\n",
    "print(prix_ameublement)\n",
    "\n",
    "# Prix par nombre de chambres\n",
    "print(\"\\n🛏️ PRIX PAR NOMBRE DE CHAMBRES:\")\n",
    "prix_chambres = df.groupby('bedrooms')['price'].agg(['mean', 'median', 'count']).round(0)\n",
    "prix_chambres.columns = ['Moyenne', 'Médiane', 'Nombre']\n",
    "print(prix_chambres)\n",
    "\n",
    "# Impact des équipements premium\n",
    "print(\"\\n⭐ IMPACT DES ÉQUIPEMENTS PREMIUM:\")\n",
    "equipements_premium = ['airconditioning', 'guestroom', 'basement', 'hotwaterheating', 'prefarea']\n",
    "\n",
    "for equip in equipements_premium:\n",
    "    prix_avec = df[df[equip] == 'yes']['price'].mean()\n",
    "    prix_sans = df[df[equip] == 'no']['price'].mean()\n",
    "    difference = prix_avec - prix_sans\n",
    "    pct_difference = (difference / prix_sans) * 100 if prix_sans > 0 else 0\n",
    "    count_avec = len(df[df[equip] == 'yes'])\n",
    "    \n",
    "    print(f\"   {equip:16s}: +{difference:8.0f} (+{pct_difference:4.1f}%) [{count_avec:3d} propriétés]\")\n",
    "\n",
    "# Analyse par superficie (quartiles)\n",
    "print(f\"\\n📐 PRIX PAR QUARTILE DE SUPERFICIE:\")\n",
    "df['area_quartile'] = pd.qcut(df['area'], 4, labels=['Q1 (Petit)', 'Q2 (Moyen)', 'Q3 (Grand)', 'Q4 (Très grand)'])\n",
    "prix_superficie = df.groupby('area_quartile')['price'].agg(['mean', 'count']).round(0)\n",
    "prix_superficie.columns = ['Prix moyen', 'Nombre']\n",
    "print(prix_superficie)"
   ]
  },
  {
   "cell_type": "code",
   "execution_count": 17,
   "id": "f51f10f7",
   "metadata": {},
   "outputs": [
    {
     "data": {
      "image/png": "[encoded data removed]",
      "text/plain": [
       "<Figure size 1200x1000 with 2 Axes>"
      ]
     },
     "metadata": {},
     "output_type": "display_data"
    },
    {
     "name": "stdout",
     "output_type": "stream",
     "text": [
      "\n",
      "🎯 CORRÉLATIONS AVEC LE PRIX (par ordre décroissant):\n",
      "=======================================================\n",
      "area              : +0.536 (Modérée)\n",
      "bathrooms         : +0.518 (Modérée)\n",
      "airconditioning   : +0.453 (Modérée)\n",
      "stories           : +0.421 (Modérée)\n",
      "parking           : +0.384 (Faible)\n",
      "bedrooms          : +0.366 (Faible)\n",
      "prefarea          : +0.330 (Faible)\n",
      "furnishingstatus  : +0.305 (Faible)\n",
      "mainroad          : +0.297 (Faible)\n",
      "guestroom         : +0.256 (Faible)\n",
      "basement          : +0.187 (Faible)\n",
      "hotwaterheating   : +0.093 (Faible)\n",
      "\n",
      "🔍 VARIABLES LES PLUS CORRÉLÉES AU PRIX:\n",
      "   1. area: 0.536\n",
      "   2. bathrooms: 0.518\n",
      "   3. airconditioning: 0.453\n",
      "\n",
      "⚠️ ATTENTION - MULTICOLINÉARITÉ:\n",
      "Variables potentiellement corrélées entre elles:\n",
      "   ✅ Pas de multicolinéarité détectée (seuil 0.7)\n"
     ]
    }
   ],
   "source": [
    "# Matrice de corrélation pour le dataset Housing\n",
    "# Utiliser le dataset traité avec variables numériques\n",
    "numeric_cols = ['price', 'area', 'bedrooms', 'bathrooms', 'stories', 'parking']\n",
    "\n",
    "# Ajouter les variables binaires traitées si disponibles\n",
    "if 'df_processed' in locals():\n",
    "    binary_cols = ['mainroad', 'guestroom', 'basement', 'hotwaterheating', \n",
    "                   'airconditioning', 'prefarea', 'furnishingstatus']\n",
    "    # Utiliser le dataset traité pour la corrélation\n",
    "    corr_data = df_processed[numeric_cols + binary_cols]\n",
    "else:\n",
    "    # Convertir temporairement pour la corrélation\n",
    "    corr_data = df[numeric_cols].copy()\n",
    "    # Ajouter les variables binaires converties temporairement\n",
    "    binary_vars = ['mainroad', 'guestroom', 'basement', 'hotwaterheating', \n",
    "                   'airconditioning', 'prefarea']\n",
    "    for var in binary_vars:\n",
    "        corr_data[var] = df[var].map({'yes': 1, 'no': 0})\n",
    "    \n",
    "    # Convertir furnishingstatus\n",
    "    furnishing_map = {'furnished': 2, 'semi-furnished': 1, 'unfurnished': 0}\n",
    "    corr_data['furnishingstatus'] = df['furnishingstatus'].map(furnishing_map)\n",
    "\n",
    "correlation_matrix = corr_data.corr()\n",
    "\n",
    "plt.figure(figsize=(12, 10))\n",
    "mask = np.triu(np.ones_like(correlation_matrix, dtype=bool))\n",
    "sns.heatmap(correlation_matrix, mask=mask, annot=True, cmap='RdYlBu_r', center=0,\n",
    "            square=True, linewidths=0.5, cbar_kws={\"shrink\": .5}, fmt='.3f')\n",
    "plt.title('🔗 Matrice de Corrélation - Dataset Housing', fontsize=14, fontweight='bold')\n",
    "plt.tight_layout()\n",
    "plt.show()\n",
    "\n",
    "# Corrélations avec le prix (valeurs absolues)\n",
    "print(\"\\n🎯 CORRÉLATIONS AVEC LE PRIX (par ordre décroissant):\")\n",
    "print(\"=\" * 55)\n",
    "correlations = correlation_matrix['price'].abs().sort_values(ascending=False)\n",
    "for var, corr in correlations.items():\n",
    "    if var != 'price':\n",
    "        direction = \"+\" if correlation_matrix['price'][var] > 0 else \"-\"\n",
    "        strength = \"Forte\" if corr > 0.7 else \"Modérée\" if corr > 0.4 else \"Faible\"\n",
    "        print(f\"{var:18s}: {direction}{corr:.3f} ({strength})\")\n",
    "\n",
    "# Identification des corrélations les plus importantes\n",
    "print(f\"\\n🔍 VARIABLES LES PLUS CORRÉLÉES AU PRIX:\")\n",
    "top_correlations = correlations.drop('price').head(3)\n",
    "for i, (var, corr) in enumerate(top_correlations.items(), 1):\n",
    "    print(f\"   {i}. {var}: {corr:.3f}\")\n",
    "\n",
    "print(f\"\\n⚠️ ATTENTION - MULTICOLINÉARITÉ:\")\n",
    "print(\"Variables potentiellement corrélées entre elles:\")\n",
    "high_corr_pairs = []\n",
    "for i in range(len(correlation_matrix.columns)):\n",
    "    for j in range(i+1, len(correlation_matrix.columns)):\n",
    "        corr_value = abs(correlation_matrix.iloc[i, j])\n",
    "        if corr_value > 0.7:\n",
    "            var1, var2 = correlation_matrix.columns[i], correlation_matrix.columns[j]\n",
    "            if var1 != 'price' and var2 != 'price':\n",
    "                high_corr_pairs.append((var1, var2, corr_value))\n",
    "\n",
    "if high_corr_pairs:\n",
    "    for var1, var2, corr in high_corr_pairs:\n",
    "        print(f\"   • {var1} ↔ {var2}: {corr:.3f}\")\n",
    "else:\n",
    "    print(\"   ✅ Pas de multicolinéarité détectée (seuil 0.7)\")"
   ]
  },
  {
   "cell_type": "code",
   "execution_count": 18,
   "id": "6dec7636",
   "metadata": {},
   "outputs": [
    {
     "data": {
      "application/vnd.plotly.v1+json": {
       "config": {
        "plotlyServerURL": "https://plot.ly"
       },
       "data": [
        {
         "customdata": {
          "bdata": "AgMCBAQDAgIDAQICAQICAQICAgICAgQCAgICAQEBAgIBAgICAgICAgIBAQIBAgQCAgMBAgQCAQIAAgQAAgQBAgQBAQQDAgQBAgQBAgQBAgIBAgMCAQEBAgIBAQEBAQEBAgICAgQAAQIBAgMAAgMAAQECAgMAAgEBAgMAAwICAQECAgQAAQEBAgMAAgECAgIAAQECAQECAQIAAQEAAQECAgIAAgQBAQMBAQECAQIBAQQAAQIAAgECAgIBAgEAAQQAAgIBAQIAAQECAQIBAgIAAQIAAQICAQEAAQIBAQECAQICAQIBAQEBAQIAAQIBAQIAAQIAAgIAAQIAAQICAQEAAQEBAQIBAgMBAQICAQEAAQEAAQECAQIAAQEBAQEAAQEDAQEAAQEAAQICAgEBAQIAAgEDAQEBAQECAgIAAQIAAQMAAQEBAQECAgEBAQIBAQEAAQEAAQEAAQEAAQIAAQIAAgICAQEAAQEBAQMAAQMAAQIBAQEAAQECAQEAAQIAAQEAAQIAAQIAAQEAAQEAAQEAAQEBAQEAAgIBAQIAAQIAAgIAAQEA",
          "dtype": "i1",
          "shape": "140, 3"
         },
         "hovertemplate": "Ameublement=furnished<br>Surface (sq ft)=%{x}<br>Prix=%{y}<br>Chambres=%{marker.size}<br>bathrooms=%{customdata[0]}<br>stories=%{customdata[1]}<br>parking=%{customdata[2]}<extra></extra>",
         "legendgroup": "furnished",
         "marker": {
          "color": "#636efa",
          "size": {
           "bdata": "BAQEBAQDBAMDAwMDBAQFAwMEAwMEAwMEBAMEBAMDAgMEAgMDAwMDAwMFAgMDAwMGAwIEAwMEAwMDBAMFAwQDBAMEAwMDAgQDAwMDAwIDAwMDBAIDAwIDAwQCAgIEAgMDAwMDAwMDAgIEAwMCAwUEAgICAgIDBAICAwMDAgIDAwMDAwECAgIDAgIDBAM=",
           "dtype": "i1"
          },
          "sizemode": "area",
          "sizeref": 0.015,
          "symbol": "circle"
         },
         "mode": "markers",
         "name": "furnished",
         "orientation": "v",
         "showlegend": true,
         "type": "scatter",
         "x": {
          "bdata": "/BwAI0wd/BykH5AzrA00IfgRch/QEWAijBkQE7gaWBs6HSgjlhnYGHAXcBfIGXAXKCNwF2AY2BinK7AikDNwFzovyBnIDxQZZBlEFnAXBCk6IIQhXhrAEigjzhh8FcwQlCWQGnQOFBmMGZgcfRl8FdgYXBKIExgV1BcBC04MQhg2GqQQSCEgHLgLkiywHcgZaBBkMs4asRhwF6EOoA84DvYJfhPADaAPOiDYGFoMlBGsDcAP2BiUEQgRWh7jClgblBEQDuAQhA14D1wc2gzoDmwM8BsoC9AgOiDYCRIb0g9KFS4OEA64C04MlBGUEQwXYQhhCLESOA5xDIwKYQisF2EIMAx6DfgRjApQCngPEA64C6sJ4wpeCw==",
          "dtype": "i2"
         },
         "xaxis": "x",
         "y": {
          "bdata": "IPHKAJDrugDYYroAUBquALCalgBAiZUAwP2MAAC4iACQpocAiOmDAIjpgwAY2IIAYE+CAFiSfgDA5nsALE57APi5egDgw3kAuCl4AAChdwBAW3MAiNJyANBJcgDwJnAAyIxuABAEbgAw4WsAeFhrAMDPagBQvmkAUL5pAOCsaABwm2cASAFmAJB4ZQCQeGUAkHhlAJB4ZQCQeGUA2O9kALBVYwBARGIAOPJhAIi7YQBgIWAAOIdeADiHXgC40VwAuNFcAKDbWwAwyloAMMpaADDKWgAwyloAMMpaAGidWQDglVcAAHNVAABzVQBI6lQAkGFUANjYUwAgUFMAIFBTALA+UgDQG1AA0BtQABiTTwDw+E0A8PhNAIDnTACA50wA+N9KAKDESgAws0kAwKFIAFCQRwCYB0cAKPZFAHBtRQBwbUUAGFJFALjkRAAAXEQAAFxEAKhARACoQEQAIDlCACA5QgAY50EAsCdBALAnQQCwJ0EAsCdBAPieQABAFkAAQBZAAMSJPgBg8z0AqGo9APDhPACA0DsAgNA7AIDQOwDIRzsAEL86AKCtOQCgrTkASJI5AEiSOQBIkjkAMJw4ANiAOAB4EzgAeBM4AMCKNwBQeTYAUHk2AFB5NgDgZzUAKN80AHBWNAC4zTMAuM0zAABFMwCoKTMAoNcyAJAzMgCQMzIAICIxALAQMADQ7S0AYNwsADhCKwCAuSoAMIUnAMBzJgDgUCQA4FAkAPCzGgA=",
          "dtype": "i4"
         },
         "yaxis": "y"
        },
        {
         "customdata": {
          "bdata": "AgICAwECAwQCAwICAgIBAgIAAQICAgIBAQICAgQAAQEBAgIBAQQCAgQBAgQCAgMAAgEAAgQCAgIBAQIBAgQBAgIBAQEBAgIAAgIAAQIBAgIBAgQAAQICAQECAQIAAgEDAgQBAgMCAQEBAgQBAgEAAQMBAgIBAQECAQECAQECAQIAAgEBAQECAQMCAQQAAQMAAQECAQIBAQMAAgIBAgIBAQEBAgIBAQMAAgEAAQICAwIAAgICAQEAAQECAQMAAgIAAQEAAgECAgIAAgEAAQEBAgICAQEAAQECAgICAgECAQIAAQEBAQEAAQEAAQIAAQEAAgEAAwICAQEAAgIBAQIAAQIAAQIAAQEBAQIAAQEAAQECAQEAAQIAAQMAAQICAgICAgEAAQECAQEAAQQCAgIAAQECAQEDAQQAAQICAgIBAQIAAQEAAgICAQIBAQIAAQIAAgIAAQIBAQECAQIAAQEAAgEAAQMAAQIBAQEAAQICAQIBAQIAAQEAAQIAAQIAAQIAAQIBAQIAAQIAAQECAQIAAQEBAQEBAQICAQIAAQECAwIAAgIAAgIAAQIAAgIBAQECAQMAAQIAAQEDAQIBAQIBAQICAQIBAQIAAQEAAQEBAgIAAQIBAQEAAQEAAQMCAgICAQEDAQIAAQIAAQIBAgIAAQIAAQIAAQECAQIAAgIAAgECAQEAAQEAAQIAAQIAAgEAAQIAAQIBAQEAAQEAAQEAAQEAAQEAAQIAAQEAAQECAQIAAQIAAgEAAgICAQMAAQEAAQEAAQIAAQIAAQIAAQIAAQEBAQEBAQMAAQIAAQIBAQIAAQEAAQEAAQECAQIAAQEAAQICAQEAAQIAAQIBAQIAAQICAQEAAQIDAQIAAQIBAQIAAQEAAQIBAQIAAQEBAQEAAQIAAQEAAQEA",
          "dtype": "i1",
          "shape": "227, 3"
         },
         "hovertemplate": "Ameublement=semi-furnished<br>Surface (sq ft)=%{x}<br>Prix=%{y}<br>Chambres=%{marker.size}<br>bathrooms=%{customdata[0]}<br>stories=%{customdata[1]}<br>parking=%{customdata[2]}<extra></extra>",
         "legendgroup": "semi-furnished",
         "marker": {
          "color": "#EF553B",
          "size": {
           "bdata": "AwMEBAQDBAMDAwMEAwQEAwMDAwQEAwIDBAMDAwMDAwMEAwMDBAQEAwMDAwQDAwQDAwQDBAQCAwMEBAMDAwMDBAMCBAMDBAMDAwQDAwMCAwIDBAMDAwMDAgQDAwIDAwMEBAMCBAQCAgMDBAIDAwMCAwQDAwMDAgMDAwQDAwIDAgMDBAUDBAICAwMCBAQEAwMDAwMDAwMDAwQDAgMCAgMEAwMDBAMDBAMDAgUCAgIDAgIDAgICAgMCAwICAwMCAwMCAgMEAwMCAgQDBAQCAgIDAgMDAwIDAwIEAgMDAgMCAgMDAgM=",
           "dtype": "i1"
          },
          "sizemode": "area",
          "sizeref": 0.015,
          "symbol": "circle"
         },
         "mode": "markers",
         "name": "semi-furnished",
         "orientation": "v",
         "showlegend": true,
         "type": "scatter",
         "x": {
          "bdata": "6CZMHYQhcBeWGXgecBcUGeAQcBerInwVWBtwF3AXcBcQHR4UcBewLAAecBewIqAPpBBwF6APcBewDngPiBMgHHAXBBAAGXwVShWoDNcZyBlAH2wbPxxuGPA8xCzEFlAUWBsgEogTBBoEKQQpfBXYGMgZMBHkDEIO9BosH9QXyBmpGvgRjBl8FR0oSCaiF60bbAyUEVINLB/UF9QNzCnAEtYfOhEGHvAKPBeoEf8PGBAYFaISnBioFrgLmgsmElwNgxOYF88SpB9cDc4jKBkyFC4OwyUYFeAQKA8wFjYLkhOeEQAPsA7IFMANBBC2DXoNhCaeEcgPtg2mDoAPJBNACzgTVhNxB+sPMhkwEXgoSA36GdoWMgq7CqAPFQn4EagW7w/ADTogeg3oEvAPzg8YEmEXrBdgDsgP4BX0ELgLLg4YFZQRhA1QGZQRfBW4C5AfxA60FGwM8A8KD98HgAhODNQSXA0QDpgNyA+EFwAOMAwIFrgQ8g1sDMANIhDjCJQRoA+QEPgR3AuWDzgOthxgExwMmA3QDpQRrA3/D3oNXhooI14JcAiUERIMqAwTCy4OuAuYDdcZcBfkDNAHmA2gD7gLLAdgCQ==",
          "dtype": "i2"
         },
         "xaxis": "x",
         "y": {
          "bdata": "kOu6ANCOpQBw4JoAaLiTADAPjgDA/YwA4NqKANgdhwCwg4UAmCKBAIAsgACALIAAgCyAAHCyeAAgfnUAQFtzAGA4cQDwJnAA8CZwAJgLcAAQBG4AoPJsADDhawBwm2cAkHhlAIgmZQDY72QAIGdkALBVYwD4zGIAQERiAGAhYABgIWAAYCFgAGAhYAA4h14AgP5dAGwxXQAQ7VwAEO1cAKDbWwAwyloAMMpaADDKWgDYrloAaJ1ZAFCnWABQp1gA+ItYAOCVVwDglVcAFEBWAABzVQAAc1UAAHNVAABzVQAAc1UASOpUAJBhVACQYVQAOEZUANjYUwAgUFMAIFBTAGjHUgCIpFAA0BtQANAbUADQG1AA0BtQAHgAUADIyU8AGJNPABiTTwCogU4AqIFOAPD4TQCA50wAgOdMACjMTADIXkwAENZLABDWSwBgn0sAWE1LAKDESgCgxEoAoMRKAKDESgCgxEoAoMRKAKDESgCgxEoAoMRKAKDESgBIqUoASKlKADCzSQAws0kAeCpJABi9SADAoUgAaIZIAFCQRwBQkEcAUJBHAFCQRwBQkEcA4H5GAOB+RgDgfkYA4H5GAIhjRgAo9kUAcG1FAHBtRQBwbUUAGFJFALjkRAC45EQAuOREAABcRAAAXEQAqEBEAEjTQwCQSkMAkEpDADgvQwA4L0MAMN1CACA5QgAgOUIAIDlCAGiwQQBosEEACENBAPieQABAFkAAQBZAAEAWQABAFkAAQBZAAEAWQABAFkAAQBZAAEAWQADo+j8A6Po/AIiNPwCIjT8AiI0/ANAEPwDQBD8AeOk+ABh8PgAYfD4AGHw+AGDzPQBg8z0AqGo9AKhqPQBMJj0ATCY9APDhPADw4TwAgNA7AIDQOwCA0DsAyEc7ABC/OgAQvzoAEL86ABC/OgAQvzoAEL86AFg2OgCgrTkAoK05AKCtOQDoJDkAMJw4ADCcOAAwnDgA2IA4AHgTOADAijcAwIo3AMCKNwDAijcAwIo3AMCKNwAIAjcACAI3AOBnNQDgZzUA4Gc1AOBnNQDgZzUA4Gc1AABFMwAARTMAkDMyAJAzMgDYqjEAsBAwALAQMACwEDAAsBAwALAQMAACly8AQP8uAED/LgDQ7S0A0O0tANDtLQDQ7S0AaC4tAGDcLABg3CwA8MorADhCKwCgligAoJYoAKCWKAAI6yUAuLYiAO72GgA=",
          "dtype": "i4"
         },
         "yaxis": "y"
        },
        {
         "customdata": {
          "bdata": "AwIAAgQBAgIBAgECAgICAgQCAwIBAQQCAgQCAgIBAgQBAQQBAQIBAgECAgQAAQQAAQMAAQECAgMAAQMAAgEAAQMBAQQAAQMAAQMCAgEAAQECAgMAAQEAAQMAAgQAAgICAgQAAgMAAQIAAgEAAQECAQICAgEAAQIBAQIAAQIAAQEAAQEAAQMAAQIAAQECAQEAAQICAQQDAQEBAQECAQIAAQIAAQIAAQIAAQIAAQIAAQEBAgIAAQMBAgIBAgICAQEAAQIAAgEAAQIAAQECAQEBAQEAAQIAAgIAAQECAQEAAQECAQIAAgIAAQEAAQEAAQIBAQIBAQEBAQIDAQEAAQEAAQIAAQEAAQEBAQEAAQECAQEAAQIAAgIAAQEAAQECAQICAQIAAQEAAQEAAQEAAQEBAQIAAQEAAQIAAQEAAQEBAQEAAQIAAQIAAQEBAQEBAgEBAQIAAQEBAQIAAQEAAQEAAQIAAQEAAQEBAQEAAQEAAQEAAQEAAQIAAQEAAQIBAQIBAQEAAQIBAQIAAQIAAQEAAQEAAQIAAQMAAQIBAQIBAQEAAQIBAQEAAQEAAwIAAQEAAQEAAQEAAQIAAQEAAQEAAQEAAQEAAQEAAQIAAQIAAQEBAQEBAQEAAQIAAQEAAQEAAQEAAQEAAQEAAQEAAQIAAQEAAQEAAQEAAQIAAQIAAQEBAQIAAQIAAQEAAQEBAQECAQEAAQIA",
          "dtype": "i1",
          "shape": "178, 3"
         },
         "hovertemplate": "Ameublement=unfurnished<br>Surface (sq ft)=%{x}<br>Prix=%{y}<br>Chambres=%{marker.size}<br>bathrooms=%{customdata[0]}<br>stories=%{customdata[1]}<br>parking=%{customdata[2]}<extra></extra>",
         "legendgroup": "unfurnished",
         "marker": {
          "color": "#00cc96",
          "size": {
           "bdata": "BQMEAwUDAwMDAwMDAwMEAwMDAwQDAwMDAwMDAwMDAwQDBQMDAwMEAwMCAwIDAwIDAwQCAwMCAwMDAwIDAwQDBAIEAwIDAgMDAwIDAwMDAwYDAgMCAwMDAgICAwMDAgMEAgICAwIEAgQCAwIEAwIDAgMCAwMDAwICAgICAwMCBAMCAwQDAgIEBAMDAgMCAgMDAwIDAgICAwMDAwICAgICAgICAgEDAwMCAwQCBQMCAgICAw==",
           "dtype": "i1"
          },
          "sizemode": "area",
          "sizeref": 0.015,
          "symbol": "circle"
         },
         "mode": "markers",
         "name": "unfurnished",
         "orientation": "v",
         "showlegend": true,
         "type": "scatter",
         "x": {
          "bdata": "SD92FsgZ8xsOHzMdSBdwF1AZzBAQHbUYcBcUHnAXnBMOGvIcyBlwF8gZfBWUERQZtCD0GvgbZBnAEsAScBcYFagWwBIQFDIZeB7QILQU2A64C1gWQBr+EEAQWBsAKEAQ8BTQIP0WEBM8D9gYfwh8FbATiQs6ETgOYQgMF4ATBBDSD2EIFg3GFhAOLg5IFyILwA04DgoPQg5XCAAdmA0QDjAMuA0cJfgWkDIkE/QLyBSgD3EMCg8yCp4HyA96DawNGBCOEogOpg7ID6cSxAlsDMgP+BZaDzgOEhF8CuAQkg9yBv0LlBF3FbgLCg+sDaQfYBMSDNgO1BOmDnIfABHaFmATEA5MDk4M4AsuDhgVUBT+EFoKkBqgD6APXg8uDvAKfglxDKAPXgsQDjARQAtsDDARigyoDLgLrA3oEhQeMw7ADDgObAyCD4IPnge0FLgLYAm4CyANXA2kBkEOrgu4CyQOCg8=",
          "dtype": "i2"
         },
         "xaxis": "x",
         "y": {
          "bdata": "cOCaAECJlQDg2ooAQHKEAIAsgACALIAAMPh8AIR/eQAgfnUAGMFxAGA4cQBgOHEA8CZwAJg1aQC4EmcAAIpmALBVYwD4zGIACAZgAKiYXwDwD18A8A9fAID+XQDIdV0AEO1cAKDbWwDAuFkAwLhZABCCWQBQp1gAmB5YAOCVVwDglVcAAHNVAABzVQBYI1IAQC1RANAbUADQG1AA0BtQAPD4TQA4cE0AoMRKAOg7SgAws0kAeCpJAMChSADgfkYAcG1FAHBtRQAAXEQAOC9DANjBQgCwJ0EAsCdBAEAWQABAFkAAQBZAAEAWQABAFkAAQBZAAGDzPQBg8z0A8OE8APDhPACA0DsAYIg6AKCtOQAwnDgAeBM4AMCKNwDAijcAaG83AFB5NgCY8DUA4Gc1AOBnNQDgZzUA4Gc1AOBnNQDgZzUA4Gc1AOBnNQDgZzUA4Gc1AIhMNQAo3zQAKN80AHBWNABwVjQAcFY0AHBWNABwVjQAGDs0ALjNMwAARTMAAEUzAABFMwAARTMAAEUzAEi8MgBIvDIAkDMyAJAzMgCQMzIAkDMyANiqMQDQWDEAICIxACAiMQAgIjEAsBAwALAQMACwEDAAWPUvAKi+LwD4hy8A+IcvAPiHLwCYGi8AQP8uAED/LgCIdi4A0O0tANDtLQB40i0AGGUtAGDcLABg3CwAYNwsAGDcLABg3CwA8MorAPDKKwDwyisAlIYrADhCKwCAuSoAEKgpABCoKQBYHykAoJYoAKCWKACgligAoJYoAEh7KABIeygA4LsnADCFJwAwhScAwHMmAMBzJgAI6yUAUGIlAFBiJQBQYiUAUGIlAFBiJQBQYiUAQL4kAOBQJAAoyCMAcD8jALi2IgC4tiIAAC4iAKgSIgDYkyAAIAsgACALIAAgCyAAQOgdANDWHADQ1hwAGE4cAGDFGwDwsxoA8LMaAA==",
          "dtype": "i4"
         },
         "yaxis": "y"
        }
       ],
       "layout": {
        "height": 600,
        "legend": {
         "itemsizing": "constant",
         "title": {
          "text": "Ameublement"
         },
         "tracegroupgap": 0
        },
        "template": {
         "data": {
          "bar": [
           {
            "error_x": {
             "color": "#2a3f5f"
            },
            "error_y": {
             "color": "#2a3f5f"
            },
            "marker": {
             "line": {
              "color": "#E5ECF6",
              "width": 0.5
             },
             "pattern": {
              "fillmode": "overlay",
              "size": 10,
              "solidity": 0.2
             }
            },
            "type": "bar"
           }
          ],
          "barpolar": [
           {
            "marker": {
             "line": {
              "color": "#E5ECF6",
              "width": 0.5
             },
             "pattern": {
              "fillmode": "overlay",
              "size": 10,
              "solidity": 0.2
             }
            },
            "type": "barpolar"
           }
          ],
          "carpet": [
           {
            "aaxis": {
             "endlinecolor": "#2a3f5f",
             "gridcolor": "white",
             "linecolor": "white",
             "minorgridcolor": "white",
             "startlinecolor": "#2a3f5f"
            },
            "baxis": {
             "endlinecolor": "#2a3f5f",
             "gridcolor": "white",
             "linecolor": "white",
             "minorgridcolor": "white",
             "startlinecolor": "#2a3f5f"
            },
            "type": "carpet"
           }
          ],
          "choropleth": [
           {
            "colorbar": {
             "outlinewidth": 0,
             "ticks": ""
            },
            "type": "choropleth"
           }
          ],
          "contour": [
           {
            "colorbar": {
             "outlinewidth": 0,
             "ticks": ""
            },
            "colorscale": [
             [
              0,
              "#0d0887"
             ],
             [
              0.1111111111111111,
              "#46039f"
             ],
             [
              0.2222222222222222,
              "#7201a8"
             ],
             [
              0.3333333333333333,
              "#9c179e"
             ],
             [
              0.4444444444444444,
              "#bd3786"
             ],
             [
              0.5555555555555556,
              "#d8576b"
             ],
             [
              0.6666666666666666,
              "#ed7953"
             ],
             [
              0.7777777777777778,
              "#fb9f3a"
             ],
             [
              0.8888888888888888,
              "#fdca26"
             ],
             [
              1,
              "#f0f921"
             ]
            ],
            "type": "contour"
           }
          ],
          "contourcarpet": [
           {
            "colorbar": {
             "outlinewidth": 0,
             "ticks": ""
            },
            "type": "contourcarpet"
           }
          ],
          "heatmap": [
           {
            "colorbar": {
             "outlinewidth": 0,
             "ticks": ""
            },
            "colorscale": [
             [
              0,
              "#0d0887"
             ],
             [
              0.1111111111111111,
              "#46039f"
             ],
             [
              0.2222222222222222,
              "#7201a8"
             ],
             [
              0.3333333333333333,
              "#9c179e"
             ],
             [
              0.4444444444444444,
              "#bd3786"
             ],
             [
              0.5555555555555556,
              "#d8576b"
             ],
             [
              0.6666666666666666,
              "#ed7953"
             ],
             [
              0.7777777777777778,
              "#fb9f3a"
             ],
             [
              0.8888888888888888,
              "#fdca26"
             ],
             [
              1,
              "#f0f921"
             ]
            ],
            "type": "heatmap"
           }
          ],
          "histogram": [
           {
            "marker": {
             "pattern": {
              "fillmode": "overlay",
              "size": 10,
              "solidity": 0.2
             }
            },
            "type": "histogram"
           }
          ],
          "histogram2d": [
           {
            "colorbar": {
             "outlinewidth": 0,
             "ticks": ""
            },
            "colorscale": [
             [
              0,
              "#0d0887"
             ],
             [
              0.1111111111111111,
              "#46039f"
             ],
             [
              0.2222222222222222,
              "#7201a8"
             ],
             [
              0.3333333333333333,
              "#9c179e"
             ],
             [
              0.4444444444444444,
              "#bd3786"
             ],
             [
              0.5555555555555556,
              "#d8576b"
             ],
             [
              0.6666666666666666,
              "#ed7953"
             ],
             [
              0.7777777777777778,
              "#fb9f3a"
             ],
             [
              0.8888888888888888,
              "#fdca26"
             ],
             [
              1,
              "#f0f921"
             ]
            ],
            "type": "histogram2d"
           }
          ],
          "histogram2dcontour": [
           {
            "colorbar": {
             "outlinewidth": 0,
             "ticks": ""
            },
            "colorscale": [
             [
              0,
              "#0d0887"
             ],
             [
              0.1111111111111111,
              "#46039f"
             ],
             [
              0.2222222222222222,
              "#7201a8"
             ],
             [
              0.3333333333333333,
              "#9c179e"
             ],
             [
              0.4444444444444444,
              "#bd3786"
             ],
             [
              0.5555555555555556,
              "#d8576b"
             ],
             [
              0.6666666666666666,
              "#ed7953"
             ],
             [
              0.7777777777777778,
              "#fb9f3a"
             ],
             [
              0.8888888888888888,
              "#fdca26"
             ],
             [
              1,
              "#f0f921"
             ]
            ],
            "type": "histogram2dcontour"
           }
          ],
          "mesh3d": [
           {
            "colorbar": {
             "outlinewidth": 0,
             "ticks": ""
            },
            "type": "mesh3d"
           }
          ],
          "parcoords": [
           {
            "line": {
             "colorbar": {
              "outlinewidth": 0,
              "ticks": ""
             }
            },
            "type": "parcoords"
           }
          ],
          "pie": [
           {
            "automargin": true,
            "type": "pie"
           }
          ],
          "scatter": [
           {
            "fillpattern": {
             "fillmode": "overlay",
             "size": 10,
             "solidity": 0.2
            },
            "type": "scatter"
           }
          ],
          "scatter3d": [
           {
            "line": {
             "colorbar": {
              "outlinewidth": 0,
              "ticks": ""
             }
            },
            "marker": {
             "colorbar": {
              "outlinewidth": 0,
              "ticks": ""
             }
            },
            "type": "scatter3d"
           }
          ],
          "scattercarpet": [
           {
            "marker": {
             "colorbar": {
              "outlinewidth": 0,
              "ticks": ""
             }
            },
            "type": "scattercarpet"
           }
          ],
          "scattergeo": [
           {
            "marker": {
             "colorbar": {
              "outlinewidth": 0,
              "ticks": ""
             }
            },
            "type": "scattergeo"
           }
          ],
          "scattergl": [
           {
            "marker": {
             "colorbar": {
              "outlinewidth": 0,
              "ticks": ""
             }
            },
            "type": "scattergl"
           }
          ],
          "scattermap": [
           {
            "marker": {
             "colorbar": {
              "outlinewidth": 0,
              "ticks": ""
             }
            },
            "type": "scattermap"
           }
          ],
          "scattermapbox": [
           {
            "marker": {
             "colorbar": {
              "outlinewidth": 0,
              "ticks": ""
             }
            },
            "type": "scattermapbox"
           }
          ],
          "scatterpolar": [
           {
            "marker": {
             "colorbar": {
              "outlinewidth": 0,
              "ticks": ""
             }
            },
            "type": "scatterpolar"
           }
          ],
          "scatterpolargl": [
           {
            "marker": {
             "colorbar": {
              "outlinewidth": 0,
              "ticks": ""
             }
            },
            "type": "scatterpolargl"
           }
          ],
          "scatterternary": [
           {
            "marker": {
             "colorbar": {
              "outlinewidth": 0,
              "ticks": ""
             }
            },
            "type": "scatterternary"
           }
          ],
          "surface": [
           {
            "colorbar": {
             "outlinewidth": 0,
             "ticks": ""
            },
            "colorscale": [
             [
              0,
              "#0d0887"
             ],
             [
              0.1111111111111111,
              "#46039f"
             ],
             [
              0.2222222222222222,
              "#7201a8"
             ],
             [
              0.3333333333333333,
              "#9c179e"
             ],
             [
              0.4444444444444444,
              "#bd3786"
             ],
             [
              0.5555555555555556,
              "#d8576b"
             ],
             [
              0.6666666666666666,
              "#ed7953"
             ],
             [
              0.7777777777777778,
              "#fb9f3a"
             ],
             [
              0.8888888888888888,
              "#fdca26"
             ],
             [
              1,
              "#f0f921"
             ]
            ],
            "type": "surface"
           }
          ],
          "table": [
           {
            "cells": {
             "fill": {
              "color": "#EBF0F8"
             },
             "line": {
              "color": "white"
             }
            },
            "header": {
             "fill": {
              "color": "#C8D4E3"
             },
             "line": {
              "color": "white"
             }
            },
            "type": "table"
           }
          ]
         },
         "layout": {
          "annotationdefaults": {
           "arrowcolor": "#2a3f5f",
           "arrowhead": 0,
           "arrowwidth": 1
          },
          "autotypenumbers": "strict",
          "coloraxis": {
           "colorbar": {
            "outlinewidth": 0,
            "ticks": ""
           }
          },
          "colorscale": {
           "diverging": [
            [
             0,
             "#8e0152"
            ],
            [
             0.1,
             "#c51b7d"
            ],
            [
             0.2,
             "#de77ae"
            ],
            [
             0.3,
             "#f1b6da"
            ],
            [
             0.4,
             "#fde0ef"
            ],
            [
             0.5,
             "#f7f7f7"
            ],
            [
             0.6,
             "#e6f5d0"
            ],
            [
             0.7,
             "#b8e186"
            ],
            [
             0.8,
             "#7fbc41"
            ],
            [
             0.9,
             "#4d9221"
            ],
            [
             1,
             "#276419"
            ]
           ],
           "sequential": [
            [
             0,
             "#0d0887"
            ],
            [
             0.1111111111111111,
             "#46039f"
            ],
            [
             0.2222222222222222,
             "#7201a8"
            ],
            [
             0.3333333333333333,
             "#9c179e"
            ],
            [
             0.4444444444444444,
             "#bd3786"
            ],
            [
             0.5555555555555556,
             "#d8576b"
            ],
            [
             0.6666666666666666,
             "#ed7953"
            ],
            [
             0.7777777777777778,
             "#fb9f3a"
            ],
            [
             0.8888888888888888,
             "#fdca26"
            ],
            [
             1,
             "#f0f921"
            ]
           ],
           "sequentialminus": [
            [
             0,
             "#0d0887"
            ],
            [
             0.1111111111111111,
             "#46039f"
            ],
            [
             0.2222222222222222,
             "#7201a8"
            ],
            [
             0.3333333333333333,
             "#9c179e"
            ],
            [
             0.4444444444444444,
             "#bd3786"
            ],
            [
             0.5555555555555556,
             "#d8576b"
            ],
            [
             0.6666666666666666,
             "#ed7953"
            ],
            [
             0.7777777777777778,
             "#fb9f3a"
            ],
            [
             0.8888888888888888,
             "#fdca26"
            ],
            [
             1,
             "#f0f921"
            ]
           ]
          },
          "colorway": [
           "#636efa",
           "#EF553B",
           "#00cc96",
           "#ab63fa",
           "#FFA15A",
           "#19d3f3",
           "#FF6692",
           "#B6E880",
           "#FF97FF",
           "#FECB52"
          ],
          "font": {
           "color": "#2a3f5f"
          },
          "geo": {
           "bgcolor": "white",
           "lakecolor": "white",
           "landcolor": "#E5ECF6",
           "showlakes": true,
           "showland": true,
           "subunitcolor": "white"
          },
          "hoverlabel": {
           "align": "left"
          },
          "hovermode": "closest",
          "mapbox": {
           "style": "light"
          },
          "paper_bgcolor": "white",
          "plot_bgcolor": "#E5ECF6",
          "polar": {
           "angularaxis": {
            "gridcolor": "white",
            "linecolor": "white",
            "ticks": ""
           },
           "bgcolor": "#E5ECF6",
           "radialaxis": {
            "gridcolor": "white",
            "linecolor": "white",
            "ticks": ""
           }
          },
          "scene": {
           "xaxis": {
            "backgroundcolor": "#E5ECF6",
            "gridcolor": "white",
            "gridwidth": 2,
            "linecolor": "white",
            "showbackground": true,
            "ticks": "",
            "zerolinecolor": "white"
           },
           "yaxis": {
            "backgroundcolor": "#E5ECF6",
            "gridcolor": "white",
            "gridwidth": 2,
            "linecolor": "white",
            "showbackground": true,
            "ticks": "",
            "zerolinecolor": "white"
           },
           "zaxis": {
            "backgroundcolor": "#E5ECF6",
            "gridcolor": "white",
            "gridwidth": 2,
            "linecolor": "white",
            "showbackground": true,
            "ticks": "",
            "zerolinecolor": "white"
           }
          },
          "shapedefaults": {
           "line": {
            "color": "#2a3f5f"
           }
          },
          "ternary": {
           "aaxis": {
            "gridcolor": "white",
            "linecolor": "white",
            "ticks": ""
           },
           "baxis": {
            "gridcolor": "white",
            "linecolor": "white",
            "ticks": ""
           },
           "bgcolor": "#E5ECF6",
           "caxis": {
            "gridcolor": "white",
            "linecolor": "white",
            "ticks": ""
           }
          },
          "title": {
           "x": 0.05
          },
          "xaxis": {
           "automargin": true,
           "gridcolor": "white",
           "linecolor": "white",
           "ticks": "",
           "title": {
            "standoff": 15
           },
           "zerolinecolor": "white",
           "zerolinewidth": 2
          },
          "yaxis": {
           "automargin": true,
           "gridcolor": "white",
           "linecolor": "white",
           "ticks": "",
           "title": {
            "standoff": 15
           },
           "zerolinecolor": "white",
           "zerolinewidth": 2
          }
         }
        },
        "title": {
         "text": "💰 Relation Prix vs Surface par Statut d'Ameublement"
        },
        "xaxis": {
         "anchor": "y",
         "domain": [
          0,
          1
         ],
         "title": {
          "text": "Surface (sq ft)"
         }
        },
        "yaxis": {
         "anchor": "x",
         "domain": [
          0,
          1
         ],
         "title": {
          "text": "Prix"
         }
        }
       }
      }
     },
     "metadata": {},
     "output_type": "display_data"
    },
    {
     "name": "stdout",
     "output_type": "stream",
     "text": [
      "📊 ANALYSE RELATION PRIX-SURFACE:\n",
      "========================================\n",
      "Corrélation prix-surface: 0.536\n",
      "Prix moyen par sq ft: 993\n",
      "Range prix/sq ft: 270 - 2640\n",
      "\n",
      "📐 ANALYSE PAR TRANCHE DE SUPERFICIE:\n",
      "             Prix moyen  Nombre  Prix/sq ft\n",
      "area                                       \n",
      "Petite        3927781.0     318      1092.0\n",
      "Moyenne       5890106.0     197       896.0\n",
      "Grande        6135792.0      24       612.0\n",
      "Très grande   6870500.0       6       488.0\n"
     ]
    },
    {
     "ename": "TypeError",
     "evalue": "histogram() got an unexpected keyword argument 'bins'",
     "output_type": "error",
     "traceback": [
      "\u001b[31m---------------------------------------------------------------------------\u001b[39m",
      "\u001b[31mTypeError\u001b[39m                                 Traceback (most recent call last)",
      "\u001b[36mCell\u001b[39m\u001b[36m \u001b[39m\u001b[32mIn[18]\u001b[39m\u001b[32m, line 39\u001b[39m\n\u001b[32m     36\u001b[39m \u001b[38;5;28mprint\u001b[39m(prix_par_tranche)\n\u001b[32m     38\u001b[39m \u001b[38;5;66;03m# Graphique prix par sq ft\u001b[39;00m\n\u001b[32m---> \u001b[39m\u001b[32m39\u001b[39m fig_price_sqft = \u001b[43mpx\u001b[49m\u001b[43m.\u001b[49m\u001b[43mhistogram\u001b[49m\u001b[43m(\u001b[49m\u001b[43mdf\u001b[49m\u001b[43m,\u001b[49m\u001b[43m \u001b[49m\u001b[43mx\u001b[49m\u001b[43m=\u001b[49m\u001b[33;43m'\u001b[39;49m\u001b[33;43mprice_per_sqft\u001b[39;49m\u001b[33;43m'\u001b[39;49m\u001b[43m,\u001b[49m\u001b[43m \u001b[49m\u001b[43mbins\u001b[49m\u001b[43m=\u001b[49m\u001b[32;43m25\u001b[39;49m\u001b[43m,\u001b[49m\n\u001b[32m     40\u001b[39m \u001b[43m                             \u001b[49m\u001b[43mtitle\u001b[49m\u001b[43m=\u001b[49m\u001b[33;43m'\u001b[39;49m\u001b[33;43m📊 Distribution du Prix par sq ft\u001b[39;49m\u001b[33;43m'\u001b[39;49m\u001b[43m,\u001b[49m\n\u001b[32m     41\u001b[39m \u001b[43m                             \u001b[49m\u001b[43mlabels\u001b[49m\u001b[43m=\u001b[49m\u001b[43m{\u001b[49m\u001b[33;43m'\u001b[39;49m\u001b[33;43mprice_per_sqft\u001b[39;49m\u001b[33;43m'\u001b[39;49m\u001b[43m:\u001b[49m\u001b[43m \u001b[49m\u001b[33;43m'\u001b[39;49m\u001b[33;43mPrix par sq ft\u001b[39;49m\u001b[33;43m'\u001b[39;49m\u001b[43m}\u001b[49m\u001b[43m)\u001b[49m\n\u001b[32m     42\u001b[39m fig_price_sqft.show()\n",
      "\u001b[31mTypeError\u001b[39m: histogram() got an unexpected keyword argument 'bins'"
     ]
    }
   ],
   "source": [
    "# Relation prix vs surface - Scatter plot interactif\n",
    "fig = px.scatter(df, x='area', y='price', \n",
    "                color='furnishingstatus', size='bedrooms',\n",
    "                hover_data=['bathrooms', 'stories', 'parking'],\n",
    "                title='💰 Relation Prix vs Surface par Statut d\\'Ameublement',\n",
    "                labels={'area': 'Surface (sq ft)', \n",
    "                       'price': 'Prix',\n",
    "                       'furnishingstatus': 'Ameublement',\n",
    "                       'bedrooms': 'Chambres'})\n",
    "\n",
    "fig.update_layout(height=600)\n",
    "fig.show()\n",
    "\n",
    "# Analyse de la relation prix-surface\n",
    "print(\"📊 ANALYSE RELATION PRIX-SURFACE:\")\n",
    "print(\"=\" * 40)\n",
    "\n",
    "# Coefficient de corrélation\n",
    "corr_prix_surface = df['price'].corr(df['area'])\n",
    "print(f\"Corrélation prix-surface: {corr_prix_surface:.3f}\")\n",
    "\n",
    "# Prix au mètre carré (conversion approximative: 1 sq ft ≈ 0.0929 m²)\n",
    "df['price_per_sqft'] = df['price'] / df['area']\n",
    "print(f\"Prix moyen par sq ft: {df['price_per_sqft'].mean():.0f}\")\n",
    "print(f\"Range prix/sq ft: {df['price_per_sqft'].min():.0f} - {df['price_per_sqft'].max():.0f}\")\n",
    "\n",
    "# Analyse par tranches de superficie\n",
    "surface_bins = pd.cut(df['area'], bins=4, labels=['Petite', 'Moyenne', 'Grande', 'Très grande'])\n",
    "prix_par_tranche = df.groupby(surface_bins).agg({\n",
    "    'price': ['mean', 'count'],\n",
    "    'price_per_sqft': 'mean'\n",
    "}).round(0)\n",
    "\n",
    "prix_par_tranche.columns = ['Prix moyen', 'Nombre', 'Prix/sq ft']\n",
    "print(f\"\\n📐 ANALYSE PAR TRANCHE DE SUPERFICIE:\")\n",
    "print(prix_par_tranche)\n",
    "\n",
    "# Graphique prix par sq ft\n",
    "fig_price_sqft = px.histogram(df, x='price_per_sqft', bins=25,\n",
    "                             title='📊 Distribution du Prix par sq ft',\n",
    "                             labels={'price_per_sqft': 'Prix par sq ft'})\n",
    "fig_price_sqft.show()"
   ]
  },
  {
   "cell_type": "markdown",
   "id": "8686f7a2",
   "metadata": {},
   "source": [
    "## ⚠️ Détection des Valeurs Aberrantes\n",
    "\n",
    "Identifions les outliers dans nos données."
   ]
  },
  {
   "cell_type": "code",
   "execution_count": null,
   "id": "ccde7bb1",
   "metadata": {},
   "outputs": [],
   "source": [
    "# Détection des outliers pour les variables du dataset Housing\n",
    "variables_to_check = ['price', 'area', 'bedrooms']  # Variables disponibles dans le dataset\n",
    "\n",
    "print(\"🚨 DÉTECTION DES VALEURS ABERRANTES\")\n",
    "print(\"=\" * 45)\n",
    "\n",
    "for var in variables_to_check:\n",
    "    if var in df.columns:  # Vérifier que la variable existe\n",
    "        outliers, lower, upper = detect_outliers_iqr(df, var)\n",
    "        pct_outliers = len(outliers) / len(df) * 100\n",
    "        \n",
    "        print(f\"\\n📊 {var.upper()}:\")\n",
    "        print(f\"   Seuil inférieur: {lower:,.1f}\")\n",
    "        print(f\"   Seuil supérieur: {upper:,.1f}\")\n",
    "        print(f\"   Nombre d'outliers: {len(outliers)} ({pct_outliers:.1f}%)\")\n",
    "        \n",
    "        if len(outliers) > 0:\n",
    "            print(f\"   Valeurs extrêmes:\")\n",
    "            print(f\"     Min outlier: {outliers[var].min():,.1f}\")\n",
    "            print(f\"     Max outlier: {outliers[var].max():,.1f}\")\n",
    "    else:\n",
    "        print(f\"\\n⚠️ Variable '{var}' non trouvée dans le dataset\")"
   ]
  },
  {
   "cell_type": "code",
   "execution_count": null,
   "id": "9cd3b850",
   "metadata": {},
   "outputs": [],
   "source": [
    "# Visualisation des outliers pour le dataset Housing\n",
    "variables_to_check = ['price', 'area', 'bedrooms']  # Variables du dataset Housing\n",
    "\n",
    "fig, axes = plt.subplots(1, 3, figsize=(18, 6))\n",
    "fig.suptitle('🚨 Détection des Valeurs Aberrantes - Dataset Housing', fontsize=16, fontweight='bold')\n",
    "\n",
    "for i, var in enumerate(variables_to_check):\n",
    "    if var in df.columns:  # Vérifier que la variable existe\n",
    "        # Box plot\n",
    "        axes[i].boxplot(df[var].dropna(), patch_artist=True, \n",
    "                       boxprops=dict(facecolor='lightblue', alpha=0.7))\n",
    "        axes[i].set_title(f'{var.replace(\"_\", \" \").title()}')\n",
    "        axes[i].set_ylabel(var.replace('_', ' ').title())\n",
    "        \n",
    "        # Marquer les outliers\n",
    "        outliers, _, _ = detect_outliers_iqr(df, var)\n",
    "        if len(outliers) > 0:\n",
    "            axes[i].text(0.5, 0.95, f'{len(outliers)} outliers', \n",
    "                        transform=axes[i].transAxes, ha='center', va='top',\n",
    "                        bbox=dict(boxstyle='round', facecolor='red', alpha=0.3))\n",
    "    else:\n",
    "        axes[i].text(0.5, 0.5, f'Variable \"{var}\"\\nnon disponible', \n",
    "                    transform=axes[i].transAxes, ha='center', va='center',\n",
    "                    bbox=dict(boxstyle='round', facecolor='yellow', alpha=0.3))\n",
    "\n",
    "plt.tight_layout()\n",
    "plt.show()"
   ]
  },
  {
   "cell_type": "markdown",
   "id": "bd724856",
   "metadata": {},
   "source": [
    "## 📋 Résumé de l'Exploration\n",
    "\n",
    "### ✅ Ce que nous avons découvert :"
   ]
  },
  {
   "cell_type": "code",
   "execution_count": null,
   "id": "9eaece68",
   "metadata": {},
   "outputs": [
    {
     "name": "stdout",
     "output_type": "stream",
     "text": [
      "⚠️  Données non chargées, chargement en cours...\n",
      "✅ Dataset rechargé: 545 propriétés × 13 variables\n",
      "📊 RÉSUMÉ DE L'ANALYSE EXPLORATOIRE - DATASET HOUSING\n",
      "=================================================================\n",
      "🏠 Dataset: 545 propriétés immobilières réelles\n",
      "🌍 Origine: Housing Prices Dataset\n",
      "📊 Variables: 13 caractéristiques disponibles\n",
      "\n",
      "💰 PRIX:\n",
      "   Moyenne: 4,766,729\n",
      "   Médiane: 4,340,000\n",
      "   Min - Max: 1,750,000 - 13,300,000\n",
      "   Coefficient de variation: 0.39\n",
      "\n",
      "🏡 CARACTÉRISTIQUES DES BIENS:\n",
      "   Surface moyenne: 5151 sq ft\n",
      "   Chambres moyennes: 3.0\n",
      "   Salles de bain moyennes: 1.3\n",
      "   Prix moyen par sq ft: 993\n",
      "\n",
      "📊 QUALITÉ DES DONNÉES:\n",
      "   Valeurs manquantes: 0 (Parfait!)\n",
      "   Outliers prix: 15 (2.8%)\n",
      "   Outliers surface: 12 (2.2%)\n",
      "\n",
      "🔗 CORRÉLATIONS PRINCIPALES avec le prix:\n",
      "   ↗️ area: 0.536\n",
      "   ↗️ bathrooms: 0.518\n",
      "   ↗️ bedrooms: 0.366\n",
      "\n",
      "🪑 RÉPARTITION DES ÉQUIPEMENTS:\n",
      "   mainroad: 85.9% des propriétés\n",
      "   guestroom: 17.8% des propriétés\n",
      "   basement: 35.0% des propriétés\n",
      "   airconditioning: 31.6% des propriétés\n",
      "   prefarea: 23.5% des propriétés\n",
      "\n",
      "📈 POINTS FORTS DU DATASET:\n",
      "   ✅ Dataset complet sans valeurs manquantes\n",
      "   ✅ Bonne variété de prix et caractéristiques\n",
      "   ✅ Variables explicatives pertinentes\n",
      "   ✅ Corrélations logiques prix-caractéristiques\n",
      "\n",
      "⚠️ POINTS D'ATTENTION:\n",
      "   • Quelques outliers dans prix et surfaces à analyser\n",
      "   • Distribution des prix asymétrique (queue droite)\n",
      "   • Variables catégorielles à encoder pour modélisation\n",
      "\n",
      "✅ PROCHAINES ÉTAPES:\n",
      "   1. Nettoyage approfondi et traitement des outliers\n",
      "   2. Ingénierie des fonctionnalités\n",
      "   3. Encodage des variables catégorielles\n",
      "   4. Division train/validation/test\n",
      "   5. Préparation pour la modélisation\n"
     ]
    }
   ],
   "source": [
    "# Vérifier si les données et fonctions sont disponibles\n",
    "if 'df' not in locals():\n",
    "    print(\"⚠️  Données non chargées, chargement en cours...\")\n",
    "    from pathlib import Path\n",
    "    import pandas as pd\n",
    "    import numpy as np\n",
    "    \n",
    "    data_path = Path('../data/Housing Prices Dataset/Housing.csv')\n",
    "    if data_path.exists():\n",
    "        df = pd.read_csv(data_path)\n",
    "        print(f\"✅ Dataset rechargé: {df.shape[0]} propriétés × {df.shape[1]} variables\")\n",
    "    else:\n",
    "        print(\"❌ Fichier Housing.csv non trouvé!\")\n",
    "\n",
    "# Définir la fonction detect_outliers_iqr si elle n'existe pas\n",
    "if 'detect_outliers_iqr' not in locals():\n",
    "    def detect_outliers_iqr(data, column):\n",
    "        \"\"\"Détecte les outliers avec la méthode IQR\"\"\"\n",
    "        Q1 = data[column].quantile(0.25)\n",
    "        Q3 = data[column].quantile(0.75)\n",
    "        IQR = Q3 - Q1\n",
    "        \n",
    "        lower_bound = Q1 - 1.5 * IQR\n",
    "        upper_bound = Q3 + 1.5 * IQR\n",
    "        \n",
    "        outliers = data[(data[column] < lower_bound) | (data[column] > upper_bound)]\n",
    "        return outliers, lower_bound, upper_bound\n",
    "\n",
    "if 'df' in locals():\n",
    "    print(\"📊 RÉSUMÉ DE L'ANALYSE EXPLORATOIRE - DATASET HOUSING\")\n",
    "    print(\"=\" * 65)\n",
    "\n",
    "    print(f\"🏠 Dataset: {len(df):,} propriétés immobilières réelles\")\n",
    "    print(f\"🌍 Origine: Housing Prices Dataset\")\n",
    "    print(f\"📊 Variables: {df.shape[1]} caractéristiques disponibles\")\n",
    "\n",
    "    print(f\"\\n💰 PRIX:\")\n",
    "    print(f\"   Moyenne: {df['price'].mean():,.0f}\")\n",
    "    print(f\"   Médiane: {df['price'].median():,.0f}\")\n",
    "    print(f\"   Min - Max: {df['price'].min():,} - {df['price'].max():,}\")\n",
    "    print(f\"   Coefficient de variation: {df['price'].std()/df['price'].mean():.2f}\")\n",
    "\n",
    "    print(f\"\\n🏡 CARACTÉRISTIQUES DES BIENS:\")\n",
    "    print(f\"   Surface moyenne: {df['area'].mean():.0f} sq ft\")\n",
    "    print(f\"   Chambres moyennes: {df['bedrooms'].mean():.1f}\")\n",
    "    print(f\"   Salles de bain moyennes: {df['bathrooms'].mean():.1f}\")\n",
    "    print(f\"   Prix moyen par sq ft: {(df['price']/df['area']).mean():.0f}\")\n",
    "\n",
    "    print(f\"\\n📊 QUALITÉ DES DONNÉES:\")\n",
    "    missing_total = df.isnull().sum().sum()\n",
    "    print(f\"   Valeurs manquantes: {missing_total} ({'Parfait!' if missing_total == 0 else 'À traiter'})\")\n",
    "\n",
    "    # Calculer les outliers pour le résumé\n",
    "    outliers_prix, _, _ = detect_outliers_iqr(df, 'price')\n",
    "    outliers_area, _, _ = detect_outliers_iqr(df, 'area')\n",
    "    print(f\"   Outliers prix: {len(outliers_prix)} ({len(outliers_prix)/len(df)*100:.1f}%)\")\n",
    "    print(f\"   Outliers surface: {len(outliers_area)} ({len(outliers_area)/len(df)*100:.1f}%)\")\n",
    "\n",
    "    print(f\"\\n🔗 CORRÉLATIONS PRINCIPALES avec le prix:\")\n",
    "    # Calculer les corrélations de base\n",
    "    correlations_simples = {\n",
    "        'area': df['price'].corr(df['area']),\n",
    "        'bedrooms': df['price'].corr(df['bedrooms']),\n",
    "        'bathrooms': df['price'].corr(df['bathrooms'])\n",
    "    }\n",
    "    \n",
    "    for var, corr in sorted(correlations_simples.items(), key=lambda x: abs(x[1]), reverse=True):\n",
    "        direction = \"↗️\" if corr > 0 else \"↘️\"\n",
    "        print(f\"   {direction} {var}: {corr:.3f}\")\n",
    "\n",
    "    print(f\"\\n🪑 RÉPARTITION DES ÉQUIPEMENTS:\")\n",
    "    equipements = ['mainroad', 'guestroom', 'basement', 'airconditioning', 'prefarea']\n",
    "    for equip in equipements:\n",
    "        pct_yes = (df[equip] == 'yes').mean() * 100\n",
    "        print(f\"   {equip}: {pct_yes:.1f}% des propriétés\")\n",
    "\n",
    "    print(f\"\\n📈 POINTS FORTS DU DATASET:\")\n",
    "    print(\"   ✅ Dataset complet sans valeurs manquantes\")\n",
    "    print(\"   ✅ Bonne variété de prix et caractéristiques\")\n",
    "    print(\"   ✅ Variables explicatives pertinentes\")\n",
    "    print(\"   ✅ Corrélations logiques prix-caractéristiques\")\n",
    "\n",
    "    print(f\"\\n⚠️ POINTS D'ATTENTION:\")\n",
    "    print(\"   • Quelques outliers dans prix et surfaces à analyser\")\n",
    "    print(\"   • Distribution des prix asymétrique (queue droite)\")\n",
    "    print(\"   • Variables catégorielles à encoder pour modélisation\")\n",
    "\n",
    "    print(\"\\n✅ PROCHAINES ÉTAPES:\")\n",
    "    print(\"   1. Nettoyage approfondi et traitement des outliers\")\n",
    "    print(\"   2. Ingénierie des fonctionnalités\")\n",
    "    print(\"   3. Encodage des variables catégorielles\")\n",
    "    print(\"   4. Division train/validation/test\")\n",
    "    print(\"   5. Préparation pour la modélisation\")\n",
    "else:\n",
    "    print(\"❌ Impossible d'afficher le résumé - données non disponibles.\")\n",
    "    print(\"💡 Conseil: Exécutez d'abord les cellules de chargement des données.\")"
   ]
  },
  {
   "cell_type": "markdown",
   "id": "1debe1f6",
   "metadata": {},
   "source": [
    "---\n",
    "\n",
    "## 🎯 Conclusions de l'Exploration - Dataset Housing\n",
    "\n",
    "### 📈 Points Positifs :\n",
    "- Dataset réel et complet avec **545 propriétés** et **13 variables**\n",
    "- **Aucune valeur manquante** - données très propres\n",
    "- **Corrélations logiques** : surface ↔ prix, équipements ↔ prix\n",
    "- Bonne diversité dans les caractéristiques (chambres, surface, équipements)\n",
    "- Variables catégorielles bien définies et cohérentes\n",
    "\n",
    "### ⚠️ Points d'Attention :\n",
    "- Présence d'**outliers naturels** dans les prix et surfaces\n",
    "- Distribution des prix **asymétrique** (biais vers les prix élevés)\n",
    "- Quelques variables catégorielles à encoder (yes/no → 1/0)\n",
    "- Dataset relativement petit (545 observations) pour deep learning\n",
    "\n",
    "### 🔍 Insights Clés Découverts :\n",
    "- **Surface** = facteur principal du prix (corrélation forte)\n",
    "- **Ameublement** impacte significativement le prix\n",
    "- **Équipements premium** (AC, jardin) augmentent la valeur\n",
    "- **Prix/sq ft** varie de façon cohérente selon les caractéristiques\n",
    "\n",
    "### 🔄 Prochaine Étape :\n",
    "**Nettoyage avancé et ingénierie des fonctionnalités** - Nous allons maintenant préparer ces données réelles pour construire un modèle de prédiction performant.\n",
    "\n",
    "---\n",
    "\n",
    "**✅ Étape 1 terminée avec succès avec un dataset réel ! Prêt(e) pour l'étape 2 - Nettoyage des données ?**"
   ]
  }
 ],
 "metadata": {
  "kernelspec": {
   "display_name": ".venv",
   "language": "python",
   "name": "python3"
  },
  "language_info": {
   "codemirror_mode": {
    "name": "ipython",
    "version": 3
   },
   "file_extension": ".py",
   "mimetype": "text/x-python",
   "name": "python",
   "nbconvert_exporter": "python",
   "pygments_lexer": "ipython3",
   "version": "3.11.0"
  }
 },
 "nbformat": 4,
 "nbformat_minor": 5
}
